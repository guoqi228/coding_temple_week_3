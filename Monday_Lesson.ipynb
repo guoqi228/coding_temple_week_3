{
 "cells": [
  {
   "cell_type": "markdown",
   "metadata": {},
   "source": [
    "# Advanced Object-Oriented-Programming (OOP)"
   ]
  },
  {
   "cell_type": "markdown",
   "metadata": {},
   "source": [
    "## Tasks Today:\n",
    "\n",
    "1) <b>Creating Multiple Instances Through Loops</b> <br>\n",
    " &nbsp;&nbsp;&nbsp;&nbsp; a) Using Loops <br>\n",
    " &nbsp;&nbsp;&nbsp;&nbsp; b) Using Multiple Lists with Loops <br>\n",
    " &nbsp;&nbsp;&nbsp;&nbsp; c) Using List Comprehension with Classes<br>\n",
    " &nbsp;&nbsp;&nbsp;&nbsp; d) In-Class Exercise #1 <br>\n",
    "2) <b>Magic Methods</b> <br>\n",
    " &nbsp;&nbsp;&nbsp;&nbsp; a) \\__str\\__ <br>\n",
    " &nbsp;&nbsp;&nbsp;&nbsp; b) \\__add\\__ <br>\n",
    " &nbsp;&nbsp;&nbsp;&nbsp; c) Overriding Magic Methods <br>\n",
    " &nbsp;&nbsp;&nbsp;&nbsp; d) In-Class Exercise #2 <br>\n",
    "3) <b>Inheritance & Method Overriding (recap)</b> <br>\n",
    " &nbsp;&nbsp;&nbsp;&nbsp; a) Inheriting (recap)  <br>\n",
    " &nbsp;&nbsp;&nbsp;&nbsp; b) Overriding Inherited Magic Methods <br>\n",
    " &nbsp;&nbsp;&nbsp;&nbsp; c) Inheriting Multiple Classes <br>\n",
    " &nbsp;&nbsp;&nbsp;&nbsp; d) In-Class Exercise #3 <br>\n",
    "4) <b>Exercises</b> <br>\n",
    " &nbsp;&nbsp;&nbsp;&nbsp; a) Making a Modular Grid <br>\n",
    " &nbsp;&nbsp;&nbsp;&nbsp; b) Class Creation for Monsters, Player, Eggs & Door <br>\n",
    " &nbsp;&nbsp;&nbsp;&nbsp; c) Moving Your Character <br>\n",
    " &nbsp;&nbsp;&nbsp;&nbsp; d) Game Ending Functionality <br>\n",
    " &nbsp;&nbsp;&nbsp;&nbsp; e) Adding Level Difficulty <br>\n",
    " &nbsp;&nbsp;&nbsp;&nbsp; f) Adding a Point System <br>"
   ]
  },
  {
   "cell_type": "markdown",
   "metadata": {},
   "source": [
    "## Creating Multiple Instances Through Loops <br>\n",
    "<p>We can use loops to create multiple instances of a single object in just a couple of lines, even just one line.</p>"
   ]
  },
  {
   "cell_type": "markdown",
   "metadata": {},
   "source": [
    "#### Using Loops"
   ]
  },
  {
   "cell_type": "code",
   "execution_count": 2,
   "metadata": {},
   "outputs": [
    {
     "name": "stdout",
     "output_type": "stream",
     "text": [
      "# of legs: 0\n",
      "# of legs: 1\n",
      "# of legs: 2\n",
      "# of legs: 3\n",
      "# of legs: 4\n"
     ]
    }
   ],
   "source": [
    "class Dog():\n",
    "    def __init__(self, legs):\n",
    "        self.legs = legs\n",
    "        \n",
    "    def bark(self):\n",
    "        print('wolf')\n",
    "        \n",
    "    def num_legs(self):\n",
    "        print('# of legs: {}'.format(self.legs))\n",
    "        \n",
    "my_dog = []\n",
    "\n",
    "for i in range(5):\n",
    "    my_dog.append(Dog(i))\n",
    "    \n",
    "    \n",
    "for dog in my_dog:\n",
    "    dog.num_legs()\n",
    "\n",
    "\n",
    "\n",
    "\n",
    "\n",
    "\n"
   ]
  },
  {
   "cell_type": "markdown",
   "metadata": {},
   "source": [
    "#### Using Multiple Lists with Loops"
   ]
  },
  {
   "cell_type": "code",
   "execution_count": 6,
   "metadata": {},
   "outputs": [
    {
     "name": "stdout",
     "output_type": "stream",
     "text": [
      "Hi, my name is Max, my fur is black.\n",
      "Hi, my name is Lucy, my fur is white.\n",
      "Hi, my name is Sammi, my fur is gold.\n",
      "Hi, my name is John, my fur is brown.\n"
     ]
    }
   ],
   "source": [
    "class Dog():\n",
    "    def __init__(self, name, color):\n",
    "        self.name = name\n",
    "        self.color = color\n",
    "        \n",
    "    def bark(self):\n",
    "        print('wolf')\n",
    "        \n",
    "    def print_info(self):\n",
    "        print('Hi, my name is {}, my fur is {}.'.format(self.name, self.color))\n",
    "        \n",
    "names = ['Max', 'Lucy', 'Sammi', 'John']\n",
    "colors = ['black', 'white', 'gold', 'brown']\n",
    "\n",
    "my_dogs = []\n",
    "\n",
    "\n",
    "# fill my dog with parameters from lists\n",
    "for i in range(len(names)):\n",
    "    my_dogs.append(Dog(names[i], colors[i]))\n",
    "    \n",
    "    \n",
    "for dog in my_dogs:\n",
    "    dog.print_info()"
   ]
  },
  {
   "cell_type": "markdown",
   "metadata": {},
   "source": [
    "#### Using List Comprehension with Classes"
   ]
  },
  {
   "cell_type": "code",
   "execution_count": 7,
   "metadata": {},
   "outputs": [
    {
     "name": "stdout",
     "output_type": "stream",
     "text": [
      "Hi, my name is Max, my fur is black.\n",
      "Hi, my name is Lucy, my fur is white.\n",
      "Hi, my name is Sammi, my fur is gold.\n",
      "Hi, my name is John, my fur is brown.\n"
     ]
    }
   ],
   "source": [
    "my_dogs = []\n",
    "\n",
    "\n",
    "my_dogs = [Dog(names[x], colors[x]) for x in range(len(names))]\n",
    "\n",
    "    \n",
    "for dog in my_dogs:\n",
    "    dog.print_info()"
   ]
  },
  {
   "cell_type": "markdown",
   "metadata": {},
   "source": [
    "#### In-Class Exercise #1 - Use List Comprehension to create multiple 'Dog' objects using the lists below... <br>\n",
    "<p>names = ['max', 'lassy', 'sammi']<br>colors=['brown', 'black', 'mix']</p>"
   ]
  },
  {
   "cell_type": "code",
   "execution_count": 9,
   "metadata": {},
   "outputs": [
    {
     "name": "stdout",
     "output_type": "stream",
     "text": [
      "max is brown\n",
      "lassy is black\n",
      "sammi is mix\n"
     ]
    }
   ],
   "source": [
    "class Dog():\n",
    "    def __init__(self, name, color):\n",
    "        self.name = name\n",
    "        self.color = color\n",
    "    def print_info(self):\n",
    "        print('{} is {}'.format(self.name, self.color))\n",
    "\n",
    "names = ['max', 'lassy', 'sammi']\n",
    "colors=['brown', 'black', 'mix']\n",
    "        \n",
    "my_dogs = [Dog(names[i], colors[i]).print_info() for i in range(len(names))]\n",
    "        \n"
   ]
  },
  {
   "cell_type": "markdown",
   "metadata": {},
   "source": [
    "## Magic Methods <br>\n",
    "<p>Magic methods are any method that begins and ends with two underscores... You've already seen one of them in __init__(). Magic methods are the general functionality of an object, and you have the ability to overwrite what those methods do, giving you flexibility in your program.</p>"
   ]
  },
  {
   "cell_type": "markdown",
   "metadata": {},
   "source": [
    "#### \\__str\\__ <br>\n",
    "<p>This is the output of an object when you print the object itself.</p>"
   ]
  },
  {
   "cell_type": "code",
   "execution_count": 43,
   "metadata": {},
   "outputs": [],
   "source": [
    "class Car():\n",
    "    \n",
    "    def __init__(self, make, model, year):\n",
    "        self.make = make\n",
    "        self.model = model\n",
    "        self.year = year\n",
    "        \n",
    "    def __str__(self):\n",
    "        return 'make: {}, Model: {}, Year: {}'.format(self.make, self.model, self.year)\n",
    "    \n",
    "    def __repr__(self):\n",
    "        return '__init__(self, make, model, year)'\n",
    "    \n",
    "    def __add__(self, num):\n",
    "        return self.year + num\n",
    " \n"
   ]
  },
  {
   "cell_type": "code",
   "execution_count": 44,
   "metadata": {},
   "outputs": [
    {
     "name": "stdout",
     "output_type": "stream",
     "text": [
      "make: Subaru, Model: Impreza, Year: 2016\n"
     ]
    }
   ],
   "source": [
    "subaru = Car('Subaru', 'Impreza', 2016)\n",
    "print(subaru)"
   ]
  },
  {
   "cell_type": "code",
   "execution_count": 45,
   "metadata": {},
   "outputs": [
    {
     "data": {
      "text/plain": [
       "'__init__(self, make, model, year)'"
      ]
     },
     "execution_count": 45,
     "metadata": {},
     "output_type": "execute_result"
    }
   ],
   "source": [
    "repr(subaru)"
   ]
  },
  {
   "cell_type": "markdown",
   "metadata": {},
   "source": [
    "#### \\__add\\__"
   ]
  },
  {
   "cell_type": "code",
   "execution_count": 42,
   "metadata": {},
   "outputs": [
    {
     "data": {
      "text/plain": [
       "2018"
      ]
     },
     "execution_count": 42,
     "metadata": {},
     "output_type": "execute_result"
    }
   ],
   "source": [
    "subaru + 2"
   ]
  },
  {
   "cell_type": "markdown",
   "metadata": {},
   "source": [
    "#### Overriding Magic Methods"
   ]
  },
  {
   "cell_type": "code",
   "execution_count": null,
   "metadata": {},
   "outputs": [],
   "source": []
  },
  {
   "cell_type": "markdown",
   "metadata": {},
   "source": [
    "#### In-Class Exercise #2 - Google another magic method and overwrite it's functionality..."
   ]
  },
  {
   "cell_type": "code",
   "execution_count": null,
   "metadata": {
    "collapsed": true
   },
   "outputs": [],
   "source": []
  },
  {
   "cell_type": "markdown",
   "metadata": {},
   "source": [
    "## Inheritance & Method Overriding (recap)"
   ]
  },
  {
   "cell_type": "markdown",
   "metadata": {},
   "source": [
    "#### Inheriting (recap)"
   ]
  },
  {
   "cell_type": "code",
   "execution_count": null,
   "metadata": {},
   "outputs": [],
   "source": [
    "class Car():\n",
    "    def __init__(self, wheels, color):\n",
    "        self.wheels = wheels\n",
    "        self.color = color\n",
    "        \n",
    "    "
   ]
  },
  {
   "cell_type": "markdown",
   "metadata": {},
   "source": [
    "#### Overriding Inherited Magic Methods"
   ]
  },
  {
   "cell_type": "code",
   "execution_count": null,
   "metadata": {},
   "outputs": [],
   "source": [
    "class Subaru(Car, Engine):\n",
    "    def __init__(self, wheels, color, size, make, year):\n",
    "        Car.__init__(self, wheels, color)\n",
    "        Engine.__init__(self, size)\n",
    "        self.make = make\n",
    "        self.model = model\n",
    "        self.year = year"
   ]
  },
  {
   "cell_type": "markdown",
   "metadata": {},
   "source": [
    "#### Inheriting Multiple Classes"
   ]
  },
  {
   "cell_type": "code",
   "execution_count": null,
   "metadata": {},
   "outputs": [],
   "source": []
  },
  {
   "cell_type": "markdown",
   "metadata": {},
   "source": [
    "#### In-Class Exercise #3 - Create a transportation class, a physics class, and a bus class <br>\n",
    "<p>Create a transportation class, a physics class, and a bus class... Have the Bus class inherit both the transportation class and physics class. The physics class should have an attribute of speed, and print out the speed, plus have an acceleration method. The transportation class should have a type attribute, and print the type of transportation that is being used. The bus class should have attributes that describe the bus, such as; wheels, color, size, etc. Overwrite the __str__ method so that when you print the object itself it prints out the bus information, and the speed.</p>"
   ]
  },
  {
   "cell_type": "code",
   "execution_count": 47,
   "metadata": {},
   "outputs": [
    {
     "name": "stdout",
     "output_type": "stream",
     "text": [
      "The tranportation type is: Bus.\n",
      "The speed is: 30 MPH.\n"
     ]
    },
    {
     "data": {
      "text/plain": [
       "'The bus is red, medium size, have 4 wheels.'"
      ]
     },
     "execution_count": 47,
     "metadata": {},
     "output_type": "execute_result"
    }
   ],
   "source": [
    "class Transportation():\n",
    "    def __init__(self, thetype):\n",
    "        self.thetype = thetype\n",
    "        \n",
    "    def print_type(self):\n",
    "        print('The tranportation type is: {}.'.format(self.thetype))\n",
    "        \n",
    "class Physics():\n",
    "    def __init__(self, speed):\n",
    "        self.speed = speed\n",
    "        \n",
    "    def print_speed(self):\n",
    "        print('The speed is: {} MPH.'.format(self.speed))\n",
    "        \n",
    "    def accelerate(self):\n",
    "        self.speed += 10\n",
    "        self.print_speed()\n",
    "        \n",
    "class Bus(Transportation, Physics):\n",
    "    def __init__(self, wheels, color, size):\n",
    "        Transportation.__init__(self, 'Bus')\n",
    "        Physics.__init__(self, 30)\n",
    "        self.wheels = wheels\n",
    "        self.color = color\n",
    "        self.size = size\n",
    "        \n",
    "    def __str__(self):\n",
    "        self.print_type()\n",
    "        self.print_speed()\n",
    "        return 'The bus is {}, {} size, have {} wheels.'.format(self.color, self.size, self.wheels)\n",
    "\n",
    "a_bus = Bus(4,'red', 'medium')\n",
    "str(a_bus)"
   ]
  },
  {
   "cell_type": "markdown",
   "metadata": {},
   "source": [
    "## Exercises <br>\n",
    "<p>We'll be creating a Dungeon Monster game together, that increases in difficulty as the levels persist. The object of the game is to collect all of the eggs in the level and reach the door before getting eating by the monster(s) in the level. The game should be modular so that you can easily implement a larger scale game, or make the game more difficult.</p>"
   ]
  },
  {
   "cell_type": "markdown",
   "metadata": {},
   "source": [
    "#### Making a Modular Grid"
   ]
  },
  {
   "cell_type": "code",
   "execution_count": 95,
   "metadata": {},
   "outputs": [],
   "source": [
    "def make_grid(rows, cols, monster, player, egg, door):\n",
    "    for i in range(rows):\n",
    "        print(' ---' * (cols))\n",
    "        for j in range(cols):\n",
    "            if monster.coords == [i, j] and i == cols - 1:\n",
    "                print('| m |', end = \" \")\n",
    "            elif monster.coords == [i, j]:\n",
    "                print('| m', end = \" \")\n",
    "            elif egg.coords == [i, j] and i == cols - 1:\n",
    "                print('| e |', end = \" \")\n",
    "            elif egg.coords == [i, j]:\n",
    "                print('| e', end = \" \")\n",
    "            elif player.coords == [i, j] and i == cols - 1:\n",
    "                print('| p |', end = \" \")\n",
    "            elif player.coords == [i, j]:\n",
    "                print('| p', end = \" \")\n",
    "            elif door.coords == [i, j] and i == cols - 1:\n",
    "                print('| d |', end = \" \")\n",
    "            elif door.coords == [i, j]:\n",
    "                print('| d', end = \" \")\n",
    "            elif j == cols - 1:\n",
    "                print('|   |', end = \" \")\n",
    "            else:\n",
    "                print('|  ', end = \" \")\n",
    "        print()\n",
    "        if i == rows - 1:\n",
    "            print(' ---' * cols)\n",
    "        \n",
    "#make_grid(10,10)"
   ]
  },
  {
   "cell_type": "markdown",
   "metadata": {},
   "source": [
    "#### Class Creation for Monsters, Player, Egg & Door"
   ]
  },
  {
   "cell_type": "code",
   "execution_count": 96,
   "metadata": {},
   "outputs": [
    {
     "ename": "SyntaxError",
     "evalue": "invalid syntax (<ipython-input-96-3fa068e1d658>, line 21)",
     "output_type": "error",
     "traceback": [
      "\u001b[1;36m  File \u001b[1;32m\"<ipython-input-96-3fa068e1d658>\"\u001b[1;36m, line \u001b[1;32m21\u001b[0m\n\u001b[1;33m    self.coords == 'up':\u001b[0m\n\u001b[1;37m                        ^\u001b[0m\n\u001b[1;31mSyntaxError\u001b[0m\u001b[1;31m:\u001b[0m invalid syntax\n"
     ]
    }
   ],
   "source": [
    "class Monster():\n",
    "    def __init__(self, coords):\n",
    "        self.coords = coords\n",
    "    def init_coords(self, rows, cols):\n",
    "        self.coords = [random.randint(0, col-1), random.randint(0, row-1)]\n",
    "        \n",
    "class Player():\n",
    "    def __init__(self, coords, eggs):\n",
    "        self.coords = coords\n",
    "        self.eggs = 0\n",
    "    def init_coords(self, rows, cols):\n",
    "        self.coords = [random.randint(0, col-1), random.randint(0, row-1)]\n",
    "        while monster.coords == self.coords:\n",
    "            self.coords = [random.randint(0, col-1), random.randint(0, row-1)]\n",
    "       \n",
    "    def move(self, x, y):\n",
    "        ans = input('Where would you like to move?')\n",
    "        if ans == 'up':\n",
    "            self.coords == 'up':\n",
    "                pass \n",
    "        self.coords = [x, y]\n",
    "        \n",
    "class Egg():\n",
    "    def __init__(self, coords):\n",
    "        self.coords = coords\n",
    "    def init_coords(self, rows, cols):\n",
    "        self.coords = [random.randint(0, col-1), random.randint(0, row-1)]\n",
    "        \n",
    "class Door():\n",
    "    def __init__(self, coords):\n",
    "        self.coords = coords\n",
    "    def init_coords(self, rows, cols):\n",
    "        self.coords = [random.randint(0, col-1), random.randint(0, row-1)]\n"
   ]
  },
  {
   "cell_type": "markdown",
   "metadata": {},
   "source": [
    "#### Moving Your Character"
   ]
  },
  {
   "cell_type": "code",
   "execution_count": 97,
   "metadata": {},
   "outputs": [
    {
     "name": "stdout",
     "output_type": "stream",
     "text": [
      " --- --- --- --- ---\n",
      "| m |   |   |   |   | \n",
      " --- --- --- --- ---\n",
      "|   | p |   |   |   | \n",
      " --- --- --- --- ---\n",
      "|   |   | e |   |   | \n",
      " --- --- --- --- ---\n",
      "|   |   |   | d |   | \n",
      " --- --- --- --- ---\n",
      "|   |   |   |   |   | \n",
      " --- --- --- --- ---\n"
     ]
    }
   ],
   "source": [
    "rows = 5\n",
    "cols = 5\n",
    "\n",
    "monster = Monster([0,0])\n",
    "player = Player([1,1])\n",
    "egg = Egg([2,2])\n",
    "door = Door([3,3])\n",
    "\n",
    "make_grid(rows, cols, monster, player, egg, door)"
   ]
  },
  {
   "cell_type": "code",
   "execution_count": 98,
   "metadata": {},
   "outputs": [
    {
     "name": "stdout",
     "output_type": "stream",
     "text": [
      " --- --- --- --- ---\n",
      "| m |   |   |   |   | \n",
      " --- --- --- --- ---\n",
      "|   | p |   |   |   | \n",
      " --- --- --- --- ---\n",
      "|   |   | e |   |   | \n",
      " --- --- --- --- ---\n",
      "|   |   |   | d |   | \n",
      " --- --- --- --- ---\n",
      "|   |   |   |   |   | \n",
      " --- --- --- --- ---\n"
     ]
    },
    {
     "ename": "AttributeError",
     "evalue": "'Player' object has no attribute 'move'",
     "output_type": "error",
     "traceback": [
      "\u001b[1;31m---------------------------------------------------------------------------\u001b[0m",
      "\u001b[1;31mAttributeError\u001b[0m                            Traceback (most recent call last)",
      "\u001b[1;32m<ipython-input-98-f1e6c834b4a2>\u001b[0m in \u001b[0;36m<module>\u001b[1;34m()\u001b[0m\n\u001b[0;32m     14\u001b[0m \u001b[1;33m\u001b[0m\u001b[0m\n\u001b[0;32m     15\u001b[0m     \u001b[0mmake_grid\u001b[0m\u001b[1;33m(\u001b[0m\u001b[0mrows\u001b[0m\u001b[1;33m,\u001b[0m \u001b[0mcols\u001b[0m\u001b[1;33m,\u001b[0m \u001b[0mmonster\u001b[0m\u001b[1;33m,\u001b[0m \u001b[0mplayer\u001b[0m\u001b[1;33m,\u001b[0m \u001b[0megg\u001b[0m\u001b[1;33m,\u001b[0m \u001b[0mdoor\u001b[0m\u001b[1;33m)\u001b[0m\u001b[1;33m\u001b[0m\u001b[0m\n\u001b[1;32m---> 16\u001b[1;33m     \u001b[0mplayer\u001b[0m\u001b[1;33m.\u001b[0m\u001b[0mmove\u001b[0m\u001b[1;33m(\u001b[0m\u001b[1;33m)\u001b[0m\u001b[1;33m\u001b[0m\u001b[0m\n\u001b[0m\u001b[0;32m     17\u001b[0m \u001b[1;33m\u001b[0m\u001b[0m\n\u001b[0;32m     18\u001b[0m     \u001b[1;31m# check game over\u001b[0m\u001b[1;33m\u001b[0m\u001b[1;33m\u001b[0m\u001b[0m\n",
      "\u001b[1;31mAttributeError\u001b[0m: 'Player' object has no attribute 'move'"
     ]
    }
   ],
   "source": [
    "# create a game over method\n",
    "def game_over(player, monster):\n",
    "    if player.coords == monster.coords:\n",
    "        return True\n",
    "    else:\n",
    "        return False\n",
    "\n",
    "def player_input(player):\n",
    "    ans = input('')\n",
    "\n",
    "game_over_flag = False\n",
    "# main game loop\n",
    "while True:\n",
    "    \n",
    "    make_grid(rows, cols, monster, player, egg, door)\n",
    "    player.move()\n",
    "    \n",
    "    # check game over\n",
    "    game_over_flag = game_over(player, monster)\n",
    "    \n",
    "    \n",
    "    if game_over == True:\n",
    "        break"
   ]
  },
  {
   "cell_type": "markdown",
   "metadata": {},
   "source": [
    "#### Game Ending Functionality"
   ]
  },
  {
   "cell_type": "code",
   "execution_count": null,
   "metadata": {
    "collapsed": true
   },
   "outputs": [],
   "source": []
  },
  {
   "cell_type": "code",
   "execution_count": null,
   "metadata": {},
   "outputs": [],
   "source": [
    "def pick_egg(player, egg):\n",
    "    if player.coords == egg.coords:\n",
    "        player.eggs += 1"
   ]
  },
  {
   "cell_type": "markdown",
   "metadata": {},
   "source": [
    "#### Adding Level Difficulty"
   ]
  },
  {
   "cell_type": "code",
   "execution_count": null,
   "metadata": {
    "collapsed": true
   },
   "outputs": [],
   "source": []
  },
  {
   "cell_type": "markdown",
   "metadata": {},
   "source": [
    "#### Adding a Point System"
   ]
  },
  {
   "cell_type": "code",
   "execution_count": null,
   "metadata": {
    "collapsed": true
   },
   "outputs": [],
   "source": []
  }
 ],
 "metadata": {
  "kernelspec": {
   "display_name": "Python 3",
   "language": "python",
   "name": "python3"
  },
  "language_info": {
   "codemirror_mode": {
    "name": "ipython",
    "version": 3
   },
   "file_extension": ".py",
   "mimetype": "text/x-python",
   "name": "python",
   "nbconvert_exporter": "python",
   "pygments_lexer": "ipython3",
   "version": "3.6.5"
  }
 },
 "nbformat": 4,
 "nbformat_minor": 2
}
