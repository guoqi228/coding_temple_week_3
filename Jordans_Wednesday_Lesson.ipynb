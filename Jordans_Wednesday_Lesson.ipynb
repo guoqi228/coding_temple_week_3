{
 "cells": [
  {
   "cell_type": "markdown",
   "metadata": {},
   "source": [
    "# Regular Expressions"
   ]
  },
  {
   "cell_type": "markdown",
   "metadata": {},
   "source": [
    "# Tasks today:\n",
    "1) Basic Syntax<br>\n",
    "&nbsp;&nbsp;&nbsp;&nbsp; a) Exact String<br>\n",
    "&nbsp;&nbsp;&nbsp;&nbsp; b) Range of values<br>\n",
    "&nbsp;&nbsp;&nbsp;&nbsp; c) Zero or more (*)<br>\n",
    "&nbsp;&nbsp;&nbsp;&nbsp; d) One or more (+)<br>\n",
    "&nbsp;&nbsp;&nbsp;&nbsp; e) In-class Exercise<br>\n",
    "2) Advanced Topics<br>\n",
    "&nbsp;&nbsp;&nbsp;&nbsp; a) Escaping and raw strings<br>\n",
    "&nbsp;&nbsp;&nbsp;&nbsp; b) Grouping<br>\n",
    "&nbsp;&nbsp;&nbsp;&nbsp; c) In-Class Exercise<br>\n",
    "3)Regex Project"
   ]
  },
  {
   "cell_type": "markdown",
   "metadata": {},
   "source": [
    "### Basic Syntax"
   ]
  },
  {
   "cell_type": "markdown",
   "metadata": {},
   "source": [
    "##### Exact string"
   ]
  },
  {
   "cell_type": "code",
   "execution_count": 7,
   "metadata": {},
   "outputs": [
    {
     "data": {
      "text/plain": [
       "re.compile(r'abc', re.UNICODE)"
      ]
     },
     "execution_count": 7,
     "metadata": {},
     "output_type": "execute_result"
    }
   ],
   "source": [
    "import re\n",
    "\n",
    "p = re.compile('abc')\n",
    "\n",
    "p.match('abcsjdakabcasjdalsdj')\n",
    "\n",
    "p"
   ]
  },
  {
   "cell_type": "markdown",
   "metadata": {},
   "source": [
    "##### Range of values"
   ]
  },
  {
   "cell_type": "code",
   "execution_count": 8,
   "metadata": {},
   "outputs": [
    {
     "data": {
      "text/plain": [
       "<_sre.SRE_Match object; span=(0, 1), match='2'>"
      ]
     },
     "execution_count": 8,
     "metadata": {},
     "output_type": "execute_result"
    }
   ],
   "source": [
    "p = re.compile('[0-9]')\n",
    "\n",
    "p.match('23981203')"
   ]
  },
  {
   "cell_type": "code",
   "execution_count": 11,
   "metadata": {},
   "outputs": [
    {
     "data": {
      "text/plain": [
       "<_sre.SRE_Match object; span=(0, 1), match='l'>"
      ]
     },
     "execution_count": 11,
     "metadata": {},
     "output_type": "execute_result"
    }
   ],
   "source": [
    "p = re.compile('[a-z]')\n",
    "\n",
    "p.match('lska nflahf laskg')"
   ]
  },
  {
   "cell_type": "markdown",
   "metadata": {},
   "source": [
    "##### Zero or more (*)"
   ]
  },
  {
   "cell_type": "code",
   "execution_count": 12,
   "metadata": {},
   "outputs": [
    {
     "name": "stdout",
     "output_type": "stream",
     "text": [
      "<_sre.SRE_Match object; span=(0, 1), match='a'>\n"
     ]
    }
   ],
   "source": [
    "p = re.compile('a[a-z]*')\n",
    "\n",
    "print(p.match('a'))"
   ]
  },
  {
   "cell_type": "markdown",
   "metadata": {},
   "source": [
    "##### One or more (+)"
   ]
  },
  {
   "cell_type": "code",
   "execution_count": 15,
   "metadata": {},
   "outputs": [
    {
     "name": "stdout",
     "output_type": "stream",
     "text": [
      "['This', 'is', 'another', 'example']\n"
     ]
    }
   ],
   "source": [
    "p = re.compile('ca+t')\n",
    "\n",
    "p.match('caaaaaaaat')\n",
    "\n",
    "p = re.compile('[a-zA-Z]+')\n",
    "\n",
    "print(p.findall('This is another example'))"
   ]
  },
  {
   "cell_type": "markdown",
   "metadata": {},
   "source": [
    "##### In-class exercise 1: \n",
    "\n",
    "Use a regular expression to find every number in the given string"
   ]
  },
  {
   "cell_type": "code",
   "execution_count": 16,
   "metadata": {},
   "outputs": [
    {
     "name": "stdout",
     "output_type": "stream",
     "text": [
      "['10', '1', '2']\n"
     ]
    }
   ],
   "source": [
    "my_string = \"This string has 10 numbers, but it is only 1 string. I hope you solve this 2day\"\n",
    "\n",
    "p = re.compile('[0-9]+')\n",
    "\n",
    "print(p.findall(my_string))"
   ]
  },
  {
   "cell_type": "markdown",
   "metadata": {},
   "source": [
    "### Advanced Topics"
   ]
  },
  {
   "cell_type": "markdown",
   "metadata": {},
   "source": [
    "##### Escaping and raw strings"
   ]
  },
  {
   "cell_type": "code",
   "execution_count": 65,
   "metadata": {},
   "outputs": [
    {
     "name": "stdout",
     "output_type": "stream",
     "text": [
      "s: \\\\n\n",
      "g: aa\\nasdadd\n",
      "['\\\\n']\n"
     ]
    },
    {
     "data": {
      "text/plain": [
       "['\\\\n']"
      ]
     },
     "execution_count": 65,
     "metadata": {},
     "output_type": "execute_result"
    }
   ],
   "source": [
    "# p = re.compile('a\\$')\n",
    "\n",
    "# print(p.match('a$'))\n",
    "\n",
    "s = r'\\\\n'\n",
    "print('s: {}'.format(s))\n",
    "\n",
    "p = re.compile(s)\n",
    "\n",
    "g = 'aa\\\\nasdadd'\n",
    "print(f'g: {g}')\n",
    "\n",
    "print(p.findall(g))\n",
    "\n",
    "p.findall(g)\n",
    "#print(s)"
   ]
  },
  {
   "cell_type": "markdown",
   "metadata": {},
   "source": [
    "##### Grouping"
   ]
  },
  {
   "cell_type": "code",
   "execution_count": 71,
   "metadata": {},
   "outputs": [
    {
     "name": "stdout",
     "output_type": "stream",
     "text": [
      "29\n"
     ]
    }
   ],
   "source": [
    "p = re.compile(r'([a-zA-Z]+)([0-9]+)')\n",
    "\n",
    "m = p.match('slayerER29')\n",
    "\n",
    "print(m.groups()[1])"
   ]
  },
  {
   "cell_type": "markdown",
   "metadata": {},
   "source": [
    "##### In-class Exercise 2:\n",
    "\n",
    "Write a function using regular expressions to find the domain name in the given email addresses (and return None for the invalid email addresses)"
   ]
  },
  {
   "cell_type": "code",
   "execution_count": 74,
   "metadata": {},
   "outputs": [
    {
     "name": "stdout",
     "output_type": "stream",
     "text": [
      "['jordanw@codingtemple.com']\n",
      "['pocohontas1776@gmail.com']\n",
      "[]\n",
      "['yourfavoriteband@g6.org']\n",
      "[]\n"
     ]
    },
    {
     "data": {
      "text/plain": [
       "['codingtemple', 'gmail', None, 'g6', None]"
      ]
     },
     "execution_count": 74,
     "metadata": {},
     "output_type": "execute_result"
    }
   ],
   "source": [
    "my_emails = [\"jordanw@codingtemple.com\", \"pocohontas1776@gmail.com\", \"helloworld@aol..com\",\n",
    "             \"yourfavoriteband@g6.org\", \"@codingtemple.com\"]\n",
    "\n",
    "reg = r'^[a-zA-Z0-9]+@[a-zA-Z0-9]+\\.[a-zA-Z]+'\n",
    "\n",
    "p = re.compile(reg)\n",
    "\n",
    "for email in my_emails:\n",
    "    print(p.findall(email))\n",
    "    \n",
    "\n",
    "    \n",
    "def get_domain(my_list):\n",
    "    \n",
    "    p = re.compile('([a-zA-Z0-9]+)@([a-zA-Z0-9]+)\\.(com|org)')\n",
    "    ret = []\n",
    "    for item in my_list:\n",
    "        m = p.match(item)\n",
    "        if m is None:\n",
    "            ret.append(None)\n",
    "        else:\n",
    "            ret.append(m.groups()[1])\n",
    "    return ret\n",
    "get_domain(my_emails)"
   ]
  },
  {
   "cell_type": "markdown",
   "metadata": {},
   "source": [
    "### Regex project\n",
    "\n",
    "Use python to read the file regex_test.txt and print the last name on each line using regular expressions and groups (return None for names with no first and last name, or names that aren't properly capitalized)\n",
    "##### Hint: use open() and readlines()"
   ]
  },
  {
   "cell_type": "code",
   "execution_count": 77,
   "metadata": {},
   "outputs": [],
   "source": [
    "text_file = open(\"regex_test.txt\", \"r\")"
   ]
  },
  {
   "cell_type": "code",
   "execution_count": 78,
   "metadata": {},
   "outputs": [
    {
     "name": "stdout",
     "output_type": "stream",
     "text": [
      "<_io.TextIOWrapper name='regex_test.txt' mode='r' encoding='cp1252'>\n"
     ]
    }
   ],
   "source": [
    "print(text_file)"
   ]
  },
  {
   "cell_type": "code",
   "execution_count": 81,
   "metadata": {},
   "outputs": [
    {
     "name": "stdout",
     "output_type": "stream",
     "text": [
      "['Abraham Lincoln\\n', 'Andrew P Garfield\\n', 'Connor Milliken\\n', 'Jordan Alexander Williams\\n', 'Madonna\\n', 'programming is cool\\n']\n",
      "6\n"
     ]
    }
   ],
   "source": [
    "lines = text_file.readlines()\n",
    "print(lines)\n",
    "print (len(lines))\n",
    "text_file.close()"
   ]
  },
  {
   "cell_type": "code",
   "execution_count": 93,
   "metadata": {},
   "outputs": [
    {
     "data": {
      "text/html": [
       "<div>\n",
       "<style scoped>\n",
       "    .dataframe tbody tr th:only-of-type {\n",
       "        vertical-align: middle;\n",
       "    }\n",
       "\n",
       "    .dataframe tbody tr th {\n",
       "        vertical-align: top;\n",
       "    }\n",
       "\n",
       "    .dataframe thead th {\n",
       "        text-align: right;\n",
       "    }\n",
       "</style>\n",
       "<table border=\"1\" class=\"dataframe\">\n",
       "  <thead>\n",
       "    <tr style=\"text-align: right;\">\n",
       "      <th></th>\n",
       "      <th>0</th>\n",
       "    </tr>\n",
       "  </thead>\n",
       "  <tbody>\n",
       "    <tr>\n",
       "      <th>0</th>\n",
       "      <td>Abraham Lincoln</td>\n",
       "    </tr>\n",
       "    <tr>\n",
       "      <th>1</th>\n",
       "      <td>Andrew P Garfield</td>\n",
       "    </tr>\n",
       "    <tr>\n",
       "      <th>2</th>\n",
       "      <td>Connor Milliken</td>\n",
       "    </tr>\n",
       "    <tr>\n",
       "      <th>3</th>\n",
       "      <td>Jordan Alexander Williams</td>\n",
       "    </tr>\n",
       "    <tr>\n",
       "      <th>4</th>\n",
       "      <td>Madonna</td>\n",
       "    </tr>\n",
       "    <tr>\n",
       "      <th>5</th>\n",
       "      <td>programming is cool</td>\n",
       "    </tr>\n",
       "  </tbody>\n",
       "</table>\n",
       "</div>"
      ],
      "text/plain": [
       "                           0\n",
       "0            Abraham Lincoln\n",
       "1          Andrew P Garfield\n",
       "2            Connor Milliken\n",
       "3  Jordan Alexander Williams\n",
       "4                    Madonna\n",
       "5        programming is cool"
      ]
     },
     "execution_count": 93,
     "metadata": {},
     "output_type": "execute_result"
    }
   ],
   "source": [
    "import numpy as np\n",
    "import pandas as pd\n",
    "\n",
    "file = pd.read_csv(\"regex_test.txt\", header = None)\n",
    "file"
   ]
  },
  {
   "cell_type": "code",
   "execution_count": 99,
   "metadata": {},
   "outputs": [],
   "source": [
    "names = file[0].tolist()"
   ]
  },
  {
   "cell_type": "code",
   "execution_count": 102,
   "metadata": {},
   "outputs": [],
   "source": [
    "names = file[0].values"
   ]
  },
  {
   "cell_type": "code",
   "execution_count": 103,
   "metadata": {},
   "outputs": [
    {
     "data": {
      "text/plain": [
       "array(['Abraham Lincoln', 'Andrew P Garfield', 'Connor Milliken',\n",
       "       'Jordan Alexander Williams', 'Madonna', 'programming is cool'],\n",
       "      dtype=object)"
      ]
     },
     "execution_count": 103,
     "metadata": {},
     "output_type": "execute_result"
    }
   ],
   "source": [
    "names"
   ]
  },
  {
   "cell_type": "code",
   "execution_count": null,
   "metadata": {},
   "outputs": [],
   "source": [
    "def get_last(my_list):\n",
    "    \n",
    "    p = re.compile('(^[A-Z][a-z])@([a-zA-Z0-9]+)\\.(com|org)')\n",
    "    ret = []\n",
    "    for item in my_list:\n",
    "        m = p.match(item)\n",
    "        if m is None:\n",
    "            ret.append(None)\n",
    "        else:\n",
    "            ret.append(m.groups()[1])\n",
    "    return ret\n",
    "get_domain(my_emails)"
   ]
  }
 ],
 "metadata": {
  "kernelspec": {
   "display_name": "Python 3",
   "language": "python",
   "name": "python3"
  },
  "language_info": {
   "codemirror_mode": {
    "name": "ipython",
    "version": 3
   },
   "file_extension": ".py",
   "mimetype": "text/x-python",
   "name": "python",
   "nbconvert_exporter": "python",
   "pygments_lexer": "ipython3",
   "version": "3.6.5"
  }
 },
 "nbformat": 4,
 "nbformat_minor": 2
}
