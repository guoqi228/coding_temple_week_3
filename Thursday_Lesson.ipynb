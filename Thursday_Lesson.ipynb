{
 "cells": [
  {
   "cell_type": "markdown",
   "metadata": {},
   "source": [
    "# Binary Search, Decorators, Dynamic Programming & Memoization"
   ]
  },
  {
   "cell_type": "markdown",
   "metadata": {},
   "source": [
    "## Tasks Today:\n",
    "\n",
    "1) <b>Binary Search</b> <br>\n",
    " &nbsp;&nbsp;&nbsp;&nbsp; a) How it Works <br>\n",
    " &nbsp;&nbsp;&nbsp;&nbsp; b) In-Class Exercise #1 <br>\n",
    "2) <b>Decorators</b> <br>\n",
    " &nbsp;&nbsp;&nbsp;&nbsp; a) Creating a Wrapper <br>\n",
    " &nbsp;&nbsp;&nbsp;&nbsp; b) The @ Symbol <br>\n",
    " &nbsp;&nbsp;&nbsp;&nbsp; c) Multiple Decorators <br>\n",
    " &nbsp;&nbsp;&nbsp;&nbsp; e) Saving a Decorator as a Variable <br>\n",
    " &nbsp;&nbsp;&nbsp;&nbsp; d) In-Class Exercise #2 <br>\n",
    "3) <b>Memoization</b> <br>\n",
    " &nbsp;&nbsp;&nbsp;&nbsp; a) Explicit Implementation <br>\n",
    " &nbsp;&nbsp;&nbsp;&nbsp; b) LRU_Cache <br>\n",
    " &nbsp;&nbsp;&nbsp;&nbsp; c) In-Class Exercise #3 <br>"
   ]
  },
  {
   "cell_type": "markdown",
   "metadata": {},
   "source": [
    "## Binary Search <br>\n",
    "<p>Standard way of searching lists</p>"
   ]
  },
  {
   "cell_type": "markdown",
   "metadata": {},
   "source": [
    "#### How it Works <br>\n",
    "<p>The Binary Search works by cutting a <b>SORTED</b> list in half and checking to see if it belongs in the first half or second half of the list, or if it is equal to the current middle index. If it is the current index it returns, but if it isn't, it then figures out if it belongs to the first half or second half of the list, then cuts that list in half, and repeats the process until it is either found or the list is 0</p>"
   ]
  },
  {
   "cell_type": "markdown",
   "metadata": {},
   "source": [
    "#### In-Class Exercise #1 <br>\n",
    "<p>Write a binary search algorithm</p>"
   ]
  },
  {
   "cell_type": "code",
   "execution_count": null,
   "metadata": {},
   "outputs": [],
   "source": [
    "def binary_search(A, a):\n",
    "    \n",
    "    if A is None or len(A) == 0:\n",
    "        return False\n",
    "    \n",
    "    n = len(A)\n",
    "    \n",
    "    if n == 1:\n",
    "        return A[0] == a\n",
    "    \n",
    "    left, right = 0, n - 1\n",
    "    \n",
    "    while left + 1 < right:\n",
    "        mid = (left + right) // 2\n",
    "        if A[mid] == a:\n",
    "            return True\n",
    "        elif A[mid] > a:\n",
    "            right = mid\n",
    "        else:\n",
    "            left = mid\n",
    "            \n",
    "    if A[left] == a or A[right] == a:\n",
    "        return True\n",
    "    \n",
    "    return False\n",
    "\n",
    "\n",
    "A = [0,1,1,1,2,3,4,4,4,5,6,7,8,9,9,9,9]\n",
    "\n",
    "binary_search(A, 20)        "
   ]
  },
  {
   "cell_type": "code",
   "execution_count": 35,
   "metadata": {},
   "outputs": [
    {
     "name": "stdout",
     "output_type": "stream",
     "text": [
      "0 16 8\n",
      "8 16 12\n",
      "12 16 14\n",
      "True\n"
     ]
    }
   ],
   "source": [
    "def binary_search_2(A, start, end, a):\n",
    "\n",
    "    if start + 1 >= end:\n",
    "        if A[start] == a or A[end] == a:\n",
    "            return True\n",
    "        else:\n",
    "            return False\n",
    "    \n",
    "    mid = (start + end) // 2\n",
    "    \n",
    "    print(start, end, mid)\n",
    "        \n",
    "    if A[mid] == a:\n",
    "        return True\n",
    "    if A[mid] > a:\n",
    "        return binary_search_2(A, start, mid, a)\n",
    "    elif A[mid] < a:\n",
    "        return binary_search_2(A, mid, end, a)\n",
    "\n",
    "#A = [1,2,3,4,5,6,7,8,9,10,11]       \n",
    "A = [0,1,1,1,2,3,4,4,4,5,6,7,8,9,9,9,9]\n",
    "#A = [1,1,1,1,1,1,1,2,2,2,2,2,2,9]\n",
    "\n",
    "print(binary_search_2(A, 0, len(A) - 1, 9))"
   ]
  },
  {
   "cell_type": "markdown",
   "metadata": {},
   "source": [
    "## Decorators <br>\n",
    "<p>They are useful for wrapping functions, or adding more functionality to an already create function.</p>"
   ]
  },
  {
   "cell_type": "markdown",
   "metadata": {},
   "source": [
    "#### Creating a Wrapper"
   ]
  },
  {
   "cell_type": "code",
   "execution_count": null,
   "metadata": {},
   "outputs": [],
   "source": [
    "# decorator must return a function\n",
    "\n",
    "def wrap(func):\n",
    "    def decor():\n",
    "        print('===============')\n",
    "        func()\n",
    "        print('===============')\n",
    "    return decor\n",
    "\n",
    "def decor(func):\n",
    "    def my_dec():\n",
    "        print('this is a decorator')\n",
    "        func()\n",
    "    return my_dec"
   ]
  },
  {
   "cell_type": "markdown",
   "metadata": {},
   "source": [
    "#### The @ Symbol"
   ]
  },
  {
   "cell_type": "code",
   "execution_count": null,
   "metadata": {},
   "outputs": [],
   "source": [
    "@wrap\n",
    "def printHello():\n",
    "    print('Hello')\n",
    "    \n",
    "printHello()"
   ]
  },
  {
   "cell_type": "markdown",
   "metadata": {},
   "source": [
    "#### Multiple Decorators"
   ]
  },
  {
   "cell_type": "code",
   "execution_count": null,
   "metadata": {},
   "outputs": [],
   "source": [
    "@decor\n",
    "def printHello():\n",
    "    print('Hello')\n",
    "    \n",
    "printHello()"
   ]
  },
  {
   "cell_type": "markdown",
   "metadata": {},
   "source": [
    "#### Saving a Decorator as a Variable"
   ]
  },
  {
   "cell_type": "code",
   "execution_count": null,
   "metadata": {},
   "outputs": [],
   "source": [
    "# my_text = wrap(print_text())\n",
    "\n",
    "my_text = wrap(printHello)\n",
    "\n",
    "my_text()"
   ]
  },
  {
   "cell_type": "markdown",
   "metadata": {},
   "source": [
    "#### In-Class Exercise #2 <br>\n",
    "<p>Create a decorator that will put a border around all four sides of a function, which returns '2 + 2 = 4'</p>"
   ]
  },
  {
   "cell_type": "code",
   "execution_count": 20,
   "metadata": {},
   "outputs": [
    {
     "name": "stdout",
     "output_type": "stream",
     "text": [
      "==2222==\n",
      "=2= \n",
      "==1111==\n",
      "=1= 2 - 2 is 0\n",
      "2 + 2 is 4=1= \n",
      "==1111==\n",
      "=2=\n",
      "==2222==\n"
     ]
    }
   ],
   "source": [
    "def wrap_2(func):\n",
    "    def decor():\n",
    "        print('==2222==')\n",
    "        print('=2= ', end='')\n",
    "        func()\n",
    "        print('=2=')\n",
    "        print('==2222==')\n",
    "    return decor\n",
    "\n",
    "def wrap_1(func):\n",
    "    def decor():\n",
    "        print()\n",
    "        print('==1111==')\n",
    "        print('=1= ', end='')\n",
    "        print('2 - 2 is 0')\n",
    "        func()\n",
    "        print('=1= ')\n",
    "        print('==1111==')\n",
    "    return decor\n",
    "\n",
    "@wrap_2\n",
    "@wrap_1\n",
    "def add():\n",
    "    print('2 + 2 is 4', end='')\n",
    "\n",
    "add()\n",
    "\n",
    "# @wrap_2\n",
    "# def add_2():\n",
    "#     print('2 - 2 is 0', end='')\n",
    "\n",
    "# add_2()"
   ]
  },
  {
   "cell_type": "markdown",
   "metadata": {},
   "source": [
    "## Memoization <br>\n",
    "<p>Store values for recent function calls so that we can speed up the process</p>"
   ]
  },
  {
   "cell_type": "markdown",
   "metadata": {},
   "source": [
    "#### Explicit Implementation <br>\n",
    "<p>Creating our own memoization technique</p>"
   ]
  },
  {
   "cell_type": "code",
   "execution_count": null,
   "metadata": {},
   "outputs": [],
   "source": [
    "# caching values\n",
    "fibs_cache = {}\n",
    "\n",
    "def fib(n):\n",
    "    \n",
    "    if n in fibs_cache:\n",
    "        return fibs_cache[n]:\n",
    "        \n",
    "    if  n <= 1:\n",
    "        value = 1\n",
    "    else:\n",
    "        value = fib(n-1) + fib(n-2)\n",
    "        \n",
    "    fib_cache[n] = value\n",
    "    return value"
   ]
  },
  {
   "cell_type": "markdown",
   "metadata": {},
   "source": [
    "#### LRU_Cache <br>\n",
    "<p>Stands for least recently used cache</p>"
   ]
  },
  {
   "cell_type": "code",
   "execution_count": 22,
   "metadata": {},
   "outputs": [],
   "source": [
    "from functools import lru_cache\n",
    "# @lru_cache(maxsize = x)\n"
   ]
  },
  {
   "cell_type": "markdown",
   "metadata": {},
   "source": [
    "#### In-Class Exercise #3 <br>\n",
    "<p>Create a recursive function that returns the multiplication of n and n - 1 using lru_cache.</p>"
   ]
  },
  {
   "cell_type": "code",
   "execution_count": 9,
   "metadata": {},
   "outputs": [
    {
     "data": {
      "text/plain": [
       "3628800"
      ]
     },
     "execution_count": 9,
     "metadata": {},
     "output_type": "execute_result"
    }
   ],
   "source": [
    "from functools import lru_cache\n",
    "@lru_cache(maxsize = 1000)\n",
    "def factorial(n):\n",
    "    \n",
    "    if n == 1:\n",
    "        return 1\n",
    "    \n",
    "    if n ==2:\n",
    "        return 2\n",
    "    \n",
    "    return factorial(n-1) * n\n",
    "\n",
    "\n",
    "factorial(10)"
   ]
  },
  {
   "cell_type": "code",
   "execution_count": 13,
   "metadata": {},
   "outputs": [
    {
     "data": {
      "text/plain": [
       "['ASDA56']"
      ]
     },
     "execution_count": 13,
     "metadata": {},
     "output_type": "execute_result"
    }
   ],
   "source": [
    "'asda56'.upper().split()"
   ]
  },
  {
   "cell_type": "code",
   "execution_count": 14,
   "metadata": {},
   "outputs": [
    {
     "data": {
      "text/plain": [
       "['a', 's', 'd', 'a', 's', 'd', 'a', 's', 'd', 'a', 's']"
      ]
     },
     "execution_count": 14,
     "metadata": {},
     "output_type": "execute_result"
    }
   ],
   "source": [
    "list('asdasdasdas')"
   ]
  },
  {
   "cell_type": "code",
   "execution_count": 15,
   "metadata": {},
   "outputs": [
    {
     "data": {
      "text/plain": [
       "True"
      ]
     },
     "execution_count": 15,
     "metadata": {},
     "output_type": "execute_result"
    }
   ],
   "source": [
    "'apple' in 'aksafljaoapplepfjafja'"
   ]
  },
  {
   "cell_type": "code",
   "execution_count": 17,
   "metadata": {},
   "outputs": [
    {
     "data": {
      "text/plain": [
       "True"
      ]
     },
     "execution_count": 17,
     "metadata": {},
     "output_type": "execute_result"
    }
   ],
   "source": [
    "A = 'mmapplemm'\n",
    "\n",
    "B = 'apple'\n",
    "\n",
    "A[2:2+len(B)] == B"
   ]
  },
  {
   "cell_type": "code",
   "execution_count": null,
   "metadata": {},
   "outputs": [],
   "source": []
  }
 ],
 "metadata": {
  "kernelspec": {
   "display_name": "Python 3",
   "language": "python",
   "name": "python3"
  },
  "language_info": {
   "codemirror_mode": {
    "name": "ipython",
    "version": 3
   },
   "file_extension": ".py",
   "mimetype": "text/x-python",
   "name": "python",
   "nbconvert_exporter": "python",
   "pygments_lexer": "ipython3",
   "version": "3.6.5"
  }
 },
 "nbformat": 4,
 "nbformat_minor": 2
}
