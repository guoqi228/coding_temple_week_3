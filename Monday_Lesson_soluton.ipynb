{
 "cells": [
  {
   "cell_type": "markdown",
   "metadata": {},
   "source": [
    "# Advanced Object-Oriented-Programming (OOP)"
   ]
  },
  {
   "cell_type": "markdown",
   "metadata": {},
   "source": [
    "## Tasks Today:\n",
    "\n",
    "1) <b>Creating Multiple Instances Through Loops</b> <br>\n",
    " &nbsp;&nbsp;&nbsp;&nbsp; a) Using Loops <br>\n",
    " &nbsp;&nbsp;&nbsp;&nbsp; b) Using Multiple Lists with Loops <br>\n",
    " &nbsp;&nbsp;&nbsp;&nbsp; c) Using List Comprehension with Classes<br>\n",
    " &nbsp;&nbsp;&nbsp;&nbsp; d) In-Class Exercise #1 <br>\n",
    "2) <b>Magic Methods</b> <br>\n",
    " &nbsp;&nbsp;&nbsp;&nbsp; a) \\__str\\__ <br>\n",
    " &nbsp;&nbsp;&nbsp;&nbsp; b) \\__add\\__ <br>\n",
    " &nbsp;&nbsp;&nbsp;&nbsp; c) Overriding Magic Methods <br>\n",
    " &nbsp;&nbsp;&nbsp;&nbsp; d) In-Class Exercise #2 <br>\n",
    "3) <b>Inheritance & Method Overriding (recap)</b> <br>\n",
    " &nbsp;&nbsp;&nbsp;&nbsp; a) Inheriting (recap)  <br>\n",
    " &nbsp;&nbsp;&nbsp;&nbsp; b) Overriding Inherited Magic Methods <br>\n",
    " &nbsp;&nbsp;&nbsp;&nbsp; c) Inheriting Multiple Classes <br>\n",
    " &nbsp;&nbsp;&nbsp;&nbsp; d) In-Class Exercise #3 <br>\n",
    "4) <b>Exercises</b> <br>\n",
    " &nbsp;&nbsp;&nbsp;&nbsp; a) Making a Modular Grid <br>\n",
    " &nbsp;&nbsp;&nbsp;&nbsp; b) Class Creation for Monsters, Player, Eggs & Door <br>\n",
    " &nbsp;&nbsp;&nbsp;&nbsp; c) Moving Your Character <br>\n",
    " &nbsp;&nbsp;&nbsp;&nbsp; d) Game Ending Functionality <br>\n",
    " &nbsp;&nbsp;&nbsp;&nbsp; e) Adding Level Difficulty <br>\n",
    " &nbsp;&nbsp;&nbsp;&nbsp; f) Adding a Point System <br>"
   ]
  },
  {
   "cell_type": "markdown",
   "metadata": {},
   "source": [
    "## Creating Multiple Instances Through Loops <br>\n",
    "<p>We can use loops to create multiple instances of a single object in just a couple of lines, even just one line.</p>"
   ]
  },
  {
   "cell_type": "markdown",
   "metadata": {},
   "source": [
    "#### Using Loops"
   ]
  },
  {
   "cell_type": "code",
   "execution_count": 10,
   "metadata": {},
   "outputs": [
    {
     "name": "stdout",
     "output_type": "stream",
     "text": [
      "I have 0 legs.\n",
      "I have 1 legs.\n",
      "I have 2 legs.\n",
      "I have 3 legs.\n",
      "I have 4 legs.\n"
     ]
    }
   ],
   "source": [
    "class Dog():\n",
    "    def __init__(self, legs):\n",
    "        self.legs = legs\n",
    "        \n",
    "    def bark(self):\n",
    "        print('Woof!')\n",
    "        \n",
    "    def numLegs(self):\n",
    "        print('I have {} legs.'.format(self.legs))\n",
    "        \n",
    "# list of objects to be held        \n",
    "my_dogs = []\n",
    "\n",
    "# loop to create multiple dogs\n",
    "for i in range(5):\n",
    "    my_dogs.append(Dog(i))\n",
    "    \n",
    "# my_dogs[0].legs = 4\n",
    "    \n",
    "# print out numLegs for each dog\n",
    "for dog in my_dogs:\n",
    "    dog.numLegs()\n",
    "\n",
    "# my_dogs[0].numLegs()"
   ]
  },
  {
   "cell_type": "markdown",
   "metadata": {},
   "source": [
    "#### Using Multiple Lists with Loops"
   ]
  },
  {
   "cell_type": "code",
   "execution_count": 26,
   "metadata": {},
   "outputs": [],
   "source": [
    "class Dog():\n",
    "    def __init__(self, name, color):\n",
    "        self.name = name.capitalize()\n",
    "        self.color = color\n",
    "        \n",
    "    def bark(self):\n",
    "        print('Woof!')\n",
    "        \n",
    "    def printInfo(self):\n",
    "        print('Hi, my name is {} my fur is {}.'.format(self.name, self.color))\n",
    "        \n",
    "\n",
    "# lists to be used for dog object creation\n",
    "names = ['max', 'lucy', 'sammi', 'john']\n",
    "colors = ['black', 'brown', 'mix', 'golden']\n",
    "\n",
    "# list to hold dog objects\n",
    "# my_dogs = []\n",
    "\n",
    "\n",
    "# # fill my_dogs with dog objects using parameters from names and colors list\n",
    "# for i in range(len(names)):\n",
    "#     my_dogs.append(Dog(names[i], colors[i]))\n",
    "\n",
    "\n",
    "# # print out each dogs info\n",
    "# for dog in my_dogs:\n",
    "#     dog.printInfo()"
   ]
  },
  {
   "cell_type": "markdown",
   "metadata": {},
   "source": [
    "#### Using List Comprehension with Classes"
   ]
  },
  {
   "cell_type": "code",
   "execution_count": 27,
   "metadata": {},
   "outputs": [
    {
     "name": "stdout",
     "output_type": "stream",
     "text": [
      "Hi, my name is Max my fur is black.\n",
      "Hi, my name is Lucy my fur is brown.\n",
      "Hi, my name is Sammi my fur is mix.\n",
      "Hi, my name is John my fur is golden.\n"
     ]
    }
   ],
   "source": [
    "my_dogs = [Dog(names[i], colors[i]) for i in range(len(names))]\n",
    "\n",
    "# print out each dogs info\n",
    "for dog in my_dogs:\n",
    "    dog.printInfo()"
   ]
  },
  {
   "cell_type": "markdown",
   "metadata": {},
   "source": [
    "#### In-Class Exercise #1 - Use List Comprehension to create multiple 'Dog' objects using the lists below... <br>\n",
    "<p>names = ['max', 'lassy', 'sammi']<br>colors=['brown', 'black', 'mix']</p>"
   ]
  },
  {
   "cell_type": "code",
   "execution_count": 34,
   "metadata": {},
   "outputs": [
    {
     "name": "stdout",
     "output_type": "stream",
     "text": [
      "My name is max, my fur is brown.\n",
      "My name is lassy, my fur is black.\n",
      "My name is sammi, my fur is mix.\n"
     ]
    }
   ],
   "source": [
    "class Cat():\n",
    "#     _legs = 4\n",
    "    \n",
    "    def __init__(self, name, color):\n",
    "        self.name = name\n",
    "        self.color = color\n",
    "        \n",
    "    def printInfo(self):\n",
    "        print('My name is {}, my fur is {}.'.format(self.name, self.color))\n",
    "        \n",
    "        \n",
    "tank = ['max', 'lassy', 'sammi']\n",
    "door = ['brown', 'black', 'mix']\n",
    "\n",
    "my_cats = [Cat(tank[i], door[i]).printInfo() for i in range(len(tank))]\n",
    "\n",
    "# Cat._legs"
   ]
  },
  {
   "cell_type": "markdown",
   "metadata": {},
   "source": [
    "## Magic Methods <br>\n",
    "<p>Magic methods are any method that begins and ends with two underscores... You've already seen one of them in __init__(). Magic methods are the general functionality of an object, and you have the ability to overwrite what those methods do, giving you flexibility in your program.</p>"
   ]
  },
  {
   "cell_type": "markdown",
   "metadata": {},
   "source": [
    "#### \\__str\\__ <br>\n",
    "<p>This is the output of an object when you print the object itself.</p>"
   ]
  },
  {
   "cell_type": "code",
   "execution_count": 50,
   "metadata": {},
   "outputs": [
    {
     "name": "stdout",
     "output_type": "stream",
     "text": [
      "Make = Subaru \n",
      "Model = Impreza \n",
      "Year = 2016\n"
     ]
    }
   ],
   "source": [
    "class Car():\n",
    "    def __init__(self, make, model, year):\n",
    "        self.make = make\n",
    "        self.model = model\n",
    "        self.year = year\n",
    "        \n",
    "    def __str__(self):\n",
    "        return 'Make = {} \\nModel = {} \\nYear = {}'.format(self.make, self.model, self.year)\n",
    "    \n",
    "    def __add__(self, num):\n",
    "        return 2 + 2\n",
    "        \n",
    "\n",
    "subaru = Car('Subaru', 'Impreza', 2016)\n",
    "print(subaru)"
   ]
  },
  {
   "cell_type": "markdown",
   "metadata": {},
   "source": [
    "#### \\__add\\__"
   ]
  },
  {
   "cell_type": "code",
   "execution_count": 51,
   "metadata": {},
   "outputs": [
    {
     "data": {
      "text/plain": [
       "4"
      ]
     },
     "execution_count": 51,
     "metadata": {},
     "output_type": "execute_result"
    }
   ],
   "source": [
    "toyota = Car('Toyota', 'Camry', 2015)\n",
    "\n",
    "subaru + toyota"
   ]
  },
  {
   "cell_type": "markdown",
   "metadata": {},
   "source": [
    "#### Overriding Magic Methods"
   ]
  },
  {
   "cell_type": "code",
   "execution_count": null,
   "metadata": {
    "collapsed": true
   },
   "outputs": [],
   "source": [
    "# see above"
   ]
  },
  {
   "cell_type": "markdown",
   "metadata": {},
   "source": [
    "#### In-Class Exercise #2 - Google another magic method and overwrite it's functionality..."
   ]
  },
  {
   "cell_type": "code",
   "execution_count": 68,
   "metadata": {},
   "outputs": [
    {
     "data": {
      "text/plain": [
       "'Nothing equals anything'"
      ]
     },
     "execution_count": 68,
     "metadata": {},
     "output_type": "execute_result"
    }
   ],
   "source": [
    "class Dog():\n",
    "    def __init__(self):\n",
    "        pass\n",
    "    \n",
    "    def __call__(self, param):\n",
    "        return 'I got called with {}'.format(param)\n",
    "    \n",
    "    def __eq__(self, param):\n",
    "        return 'Nothing equals anything'\n",
    "\n",
    "my_dog = Dog()\n",
    "my_cat = Dog()\n",
    "\n",
    "my_dog == my_cat"
   ]
  },
  {
   "cell_type": "markdown",
   "metadata": {},
   "source": [
    "## Inheritance & Method Overriding (recap)"
   ]
  },
  {
   "cell_type": "markdown",
   "metadata": {},
   "source": [
    "#### Inheriting (recap)"
   ]
  },
  {
   "cell_type": "code",
   "execution_count": 73,
   "metadata": {},
   "outputs": [
    {
     "name": "stdout",
     "output_type": "stream",
     "text": [
      "Blue 2016 Subaru Impreza with 4 wheels.\n",
      "This car has 4 wheels and is Yellow.\n"
     ]
    }
   ],
   "source": [
    "class Car():\n",
    "    def __init__(self, wheels, color):\n",
    "        self.wheels = wheels\n",
    "        self.color = color\n",
    "        \n",
    "    def __str__(self):\n",
    "        return 'This car has {} wheels and is {}.'.format(self.wheels, self.color)\n",
    "        \n",
    "class Subaru(Car):\n",
    "    def __init__(self, wheels, color, make, model, year):\n",
    "        super().__init__(wheels, color)\n",
    "        self.make = make\n",
    "        self.model = model\n",
    "        self.year = year\n",
    "        \n",
    "    def __str__(self):\n",
    "        return '{} {} {} {} with {} wheels.'.format(self.color, self.year, self.make, self.model, self.wheels)\n",
    "        \n",
    "my_other_car = Car(4, 'Yellow')        \n",
    "my_car = Subaru(4, 'Blue', 'Subaru', 'Impreza', 2016)\n",
    "print(my_car)\n",
    "print(my_other_car)"
   ]
  },
  {
   "cell_type": "markdown",
   "metadata": {},
   "source": [
    "#### Overriding Inherited Magic Methods"
   ]
  },
  {
   "cell_type": "code",
   "execution_count": null,
   "metadata": {
    "collapsed": true
   },
   "outputs": [],
   "source": [
    "# see above"
   ]
  },
  {
   "cell_type": "markdown",
   "metadata": {},
   "source": [
    "#### Inheriting Multiple Classes"
   ]
  },
  {
   "cell_type": "code",
   "execution_count": 79,
   "metadata": {},
   "outputs": [
    {
     "name": "stdout",
     "output_type": "stream",
     "text": [
      "Blue 2016 Subaru Impreza with 4 wheels and a 4.2L sized engine.\n"
     ]
    },
    {
     "data": {
      "text/plain": [
       "'Small Engine'"
      ]
     },
     "execution_count": 79,
     "metadata": {},
     "output_type": "execute_result"
    }
   ],
   "source": [
    "class Car():\n",
    "    def __init__(self, wheels, color):\n",
    "        self.wheels = wheels\n",
    "        self.color = color\n",
    "        \n",
    "    def __str__(self):\n",
    "        return 'This car has {} wheels and is {}.'.format(self.wheels, self.color)\n",
    "    \n",
    "    def speed(self):\n",
    "        return 'Fast'\n",
    "    \n",
    "class Engine():\n",
    "    def __init__(self, size):\n",
    "        self.size = size\n",
    "        \n",
    "    def speed(self):\n",
    "        if self.size[0] == '4':\n",
    "            return 'Small Engine'\n",
    "        else:\n",
    "            return 'Big Engine'\n",
    "        \n",
    "class Subaru(Engine, Car):\n",
    "    def __init__(self, wheels, color, size, make, model, year):\n",
    "        Car.__init__(self, wheels, color)\n",
    "        Engine.__init__(self, size)\n",
    "        self.make = make\n",
    "        self.model = model\n",
    "        self.year = year\n",
    "        \n",
    "    def __str__(self):\n",
    "        return '{} {} {} {} with {} wheels and a {} sized engine.'.format(self.color, self.year, self.make, \n",
    "                                                                          self.model, self.wheels, self.size)\n",
    "        \n",
    "        \n",
    "\n",
    "my_car = Subaru(4, 'Blue', '4.2L', 'Subaru', 'Impreza', 2016)\n",
    "print(my_car)\n",
    "my_car.speed()"
   ]
  },
  {
   "cell_type": "markdown",
   "metadata": {},
   "source": [
    "#### In-Class Exercise #3 - Create a transportation class, a physics class, and a bus class <br>\n",
    "<p>Create a transportation class, a physics class, and a bus class... Have the Bus class inherit both the transportation class and physics class. The physics class should have an attribute of speed, and print out the speed, plus have an acceleration method. The transportation class should have a type attribute, and print the type(typ) of transportation that is being used. The bus class should have attributes that describe the bus, such as; wheels, color, size, etc. Overwrite the __str__ method so that when you print the object itself it prints out the bus information, and the speed.</p>"
   ]
  },
  {
   "cell_type": "code",
   "execution_count": 85,
   "metadata": {},
   "outputs": [
    {
     "name": "stdout",
     "output_type": "stream",
     "text": [
      "This is a Bus with 12 wheels, the color is Yellow, it is 40 feet long, and accelerates at 196.0 mph.\n"
     ]
    }
   ],
   "source": [
    "class Transportation():\n",
    "    def __init__(self, typ):\n",
    "        self.typ = typ\n",
    "        \n",
    "    def getType(self):\n",
    "        return self.typ\n",
    "\n",
    "class Physics():\n",
    "    def __init__(self, speed):\n",
    "        self.speed = speed\n",
    "        \n",
    "    def getSpeed(self):\n",
    "        return self.speed\n",
    "    \n",
    "    def accelerate(self, gravity):\n",
    "        return self.speed * gravity\n",
    "\n",
    "class Bus(Transportation, Physics):\n",
    "    def __init__(self, typ, speed, wheels, color, size):\n",
    "        Transportation.__init__(self, typ)\n",
    "        Physics.__init__(self, speed)\n",
    "        self.wheels = wheels\n",
    "        self.color = color\n",
    "        self.size = size\n",
    "        \n",
    "    def __str__(self):\n",
    "        return 'This is a {} with {} wheels, the color is {}, it is {} feet long, and accelerates at {} mph.'.format(\n",
    "                                                            self.typ, self.wheels, self.color, self.size, self.accelerate(9.8))\n",
    "    \n",
    "\n",
    "my_bus = Bus('Bus', 20, 12, 'Yellow', 40)\n",
    "\n",
    "print(my_bus)"
   ]
  },
  {
   "cell_type": "markdown",
   "metadata": {},
   "source": [
    "## Exercises <br>\n",
    "<p>We'll be creating a Dungeon Monster game together, that increases in difficulty as the levels persist. The object of the game is to collect all of the eggs in the level and reach the door before getting eating by the monster(s) in the level. The game should be modular so that you can easily implement a larger scale game, or make the game more difficult.</p>"
   ]
  },
  {
   "cell_type": "markdown",
   "metadata": {},
   "source": [
    "#### Making a Modular Grid"
   ]
  },
  {
   "cell_type": "code",
   "execution_count": null,
   "metadata": {},
   "outputs": [],
   "source": []
  },
  {
   "cell_type": "markdown",
   "metadata": {},
   "source": [
    "#### Class Creation for Monsters, Player, Egg & Door"
   ]
  },
  {
   "cell_type": "code",
   "execution_count": null,
   "metadata": {
    "collapsed": true
   },
   "outputs": [],
   "source": []
  },
  {
   "cell_type": "markdown",
   "metadata": {},
   "source": [
    "#### Display Objects in Grid (one per class)"
   ]
  },
  {
   "cell_type": "code",
   "execution_count": null,
   "metadata": {},
   "outputs": [],
   "source": []
  },
  {
   "cell_type": "markdown",
   "metadata": {},
   "source": [
    "#### Moving Your Character"
   ]
  },
  {
   "cell_type": "code",
   "execution_count": 56,
   "metadata": {},
   "outputs": [
    {
     "name": "stdout",
     "output_type": "stream",
     "text": [
      " --- --- --- --- ---\n",
      "|   | m | p |   | e |\n",
      " --- --- --- --- ---\n",
      "|   |   |   |   |   |\n",
      " --- --- --- --- ---\n",
      "|   |   | d |   |   |\n",
      " --- --- --- --- ---\n",
      "|   |   |   |   | m |\n",
      " --- --- --- --- ---\n",
      "|   |   | m | m |   |\n",
      " --- --- --- --- ---\n",
      "Where would you like to move? left\n",
      "You were eaten by the monster!\n",
      "Would you like to play again? no\n"
     ]
    }
   ],
   "source": [
    "from IPython.display import clear_output\n",
    "import random\n",
    "\n",
    "# this function prints grid and all instances of objects\n",
    "def makeGrid(rows, cols, monsters, player, egg, door):\n",
    "    for y in range(rows):\n",
    "        print(' ---'*cols)\n",
    "        for x in range(cols):\n",
    "            monster_created = False\n",
    "            for monster in monsters:\n",
    "                if monster.coords == [x, y] and x == cols - 1 and monster_created == False:\n",
    "                    print('| m |', end='')\n",
    "                    monster_created = True\n",
    "                elif monster.coords == [x, y] and monster_created == False:\n",
    "                    print('| m ', end='')\n",
    "                    monster_created = True\n",
    "            if player.coords == [x, y] and x == cols - 1 and monster_created == False:\n",
    "                print('| p |', end='')\n",
    "            elif player.coords == [x, y] and monster_created == False:\n",
    "                print('| p ', end='')\n",
    "            elif egg.coords == [x, y] and x == cols - 1 and monster_created == False:\n",
    "                print('| e |', end='')\n",
    "            elif egg.coords == [x, y] and monster_created == False:\n",
    "                print('| e ', end='')\n",
    "            elif door.coords == [x, y] and x == cols - 1 and monster_created == False:\n",
    "                print('| d |', end='')\n",
    "            elif door.coords == [x, y] and monster_created == False:\n",
    "                print('| d ', end='')\n",
    "            elif x == cols - 1 and monster_created == False:\n",
    "                print('|   |', end='')\n",
    "            elif monster_created == False:\n",
    "                print('|   ', end='')\n",
    "        print()\n",
    "        if y == rows - 1:\n",
    "            print(' ---'*cols)\n",
    "\n",
    "class Monster():\n",
    "    def __init__(self, coords):\n",
    "        self.coords = coords\n",
    "        \n",
    "    def initCoords(self, rows, cols):\n",
    "        self.coords = [random.randint(0, cols-1), random.randint(0, rows-1)]\n",
    "        \n",
    "class Player():\n",
    "    def __init__(self, coords, eggs_collected=0):\n",
    "        self.coords = coords\n",
    "        self.eggs_collected = eggs_collected\n",
    "        \n",
    "    def initCoords(self, rows, cols, monsters):\n",
    "        # initialize first coords\n",
    "        self.coords = [random.randint(0, cols-1), random.randint(0, rows-1)]\n",
    "        # check and loop until coords are not same as monster\n",
    "        for monster in monsters:\n",
    "            while monster.coords == self.coords:\n",
    "                self.coords = [random.randint(0, cols-1), random.randint(0, rows-1)]\n",
    "        \n",
    "    def movePlayer(self):\n",
    "        ans = input('Where would you like to move? ')\n",
    "        if ans == 'up':\n",
    "            self.coords = [self.coords[0], self.coords[1] - 1]\n",
    "        elif ans == 'down':\n",
    "            self.coords = [self.coords[0], self.coords[1] + 1]\n",
    "        elif ans == 'left':\n",
    "            self.coords = [self.coords[0] - 1, self.coords[1]]\n",
    "        elif ans == 'right':\n",
    "            self.coords = [self.coords[0] + 1, self.coords[1]]\n",
    "            \n",
    "    def checkEgg(self, egg):\n",
    "        if self.coords == egg.coords:\n",
    "            self.eggs_collected += 1\n",
    "            egg.coords = [-1, -1]\n",
    "        \n",
    "class Egg():\n",
    "    def __init__(self, coords):\n",
    "        self.coords = coords\n",
    "        \n",
    "    def initCoords(self, rows, cols):\n",
    "        self.coords = [random.randint(0, cols-1), random.randint(0, rows-1)]\n",
    "        \n",
    "class Door():\n",
    "    def __init__(self, coords):\n",
    "        self.coords = coords\n",
    "        \n",
    "    def initCoords(self, rows, cols):\n",
    "        self.coords = [random.randint(0, cols-1), random.randint(0, rows-1)]\n",
    "\n",
    "# create a game over function\n",
    "def game_over(player, monsters, door, num_eggs):\n",
    "    for monster in monsters:\n",
    "        if player.coords == monster.coords:\n",
    "            return 1\n",
    "    if player.coords == door.coords and num_eggs == player.eggs_collected:\n",
    "        return 2\n",
    "    return False\n",
    "\n",
    "# initialize game over flag\n",
    "flag = False\n",
    "\n",
    "level = 0\n",
    "\n",
    "# main outer initializing loop\n",
    "while True:\n",
    "    # size of grid\n",
    "    rows = 5\n",
    "    cols = 5\n",
    "    level += 1\n",
    "    \n",
    "    # objects for game\n",
    "    monsters = [Monster([0, 0]) for i in range(level)]\n",
    "    player = Player([1, 1])\n",
    "    egg = Egg([2, 2])\n",
    "    door = Door([3, 3])\n",
    "    \n",
    "    # randomly initiating coordinates for start\n",
    "    for monster in monsters:\n",
    "        monster.initCoords(rows, cols)\n",
    "    player.initCoords(rows, cols, monsters)\n",
    "    egg.initCoords(rows, cols)\n",
    "    door.initCoords(rows, cols)\n",
    "\n",
    "    \n",
    "    # main game loop\n",
    "    while True:\n",
    "        clear_output()\n",
    "        # show grid\n",
    "        makeGrid(rows, cols, monsters, player, egg, door)\n",
    "        # move player\n",
    "        player.movePlayer()\n",
    "        player.checkEgg(egg)\n",
    "\n",
    "        # check game_over\n",
    "        flag = game_over(player, monsters, door, 1)\n",
    "\n",
    "        if flag == 1:\n",
    "            print('You were eaten by the monster!')\n",
    "            level -= 1\n",
    "            break\n",
    "        elif flag == 2:\n",
    "            print('Congrats you beat this level!')\n",
    "            break\n",
    "            \n",
    "    ans = input('Would you like to play again? ')\n",
    "    if ans == 'no':\n",
    "        break"
   ]
  },
  {
   "cell_type": "markdown",
   "metadata": {},
   "source": [
    "#### Game Ending Functionality"
   ]
  },
  {
   "cell_type": "code",
   "execution_count": 175,
   "metadata": {
    "collapsed": true
   },
   "outputs": [],
   "source": [
    "# did on above cell"
   ]
  },
  {
   "cell_type": "markdown",
   "metadata": {},
   "source": [
    "#### Add Functionality to Pickup Eggs"
   ]
  },
  {
   "cell_type": "code",
   "execution_count": null,
   "metadata": {
    "collapsed": true
   },
   "outputs": [],
   "source": []
  },
  {
   "cell_type": "markdown",
   "metadata": {},
   "source": [
    "#### Adding Level Difficulty"
   ]
  },
  {
   "cell_type": "code",
   "execution_count": null,
   "metadata": {
    "collapsed": true
   },
   "outputs": [],
   "source": []
  },
  {
   "cell_type": "markdown",
   "metadata": {},
   "source": [
    "#### Adding a Point System"
   ]
  },
  {
   "cell_type": "code",
   "execution_count": null,
   "metadata": {
    "collapsed": true
   },
   "outputs": [],
   "source": []
  }
 ],
 "metadata": {
  "kernelspec": {
   "display_name": "Python 3",
   "language": "python",
   "name": "python3"
  },
  "language_info": {
   "codemirror_mode": {
    "name": "ipython",
    "version": 3
   },
   "file_extension": ".py",
   "mimetype": "text/x-python",
   "name": "python",
   "nbconvert_exporter": "python",
   "pygments_lexer": "ipython3",
   "version": "3.6.5"
  }
 },
 "nbformat": 4,
 "nbformat_minor": 2
}
