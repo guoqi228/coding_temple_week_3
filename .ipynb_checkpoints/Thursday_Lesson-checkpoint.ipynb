{
 "cells": [
  {
   "cell_type": "markdown",
   "metadata": {},
   "source": [
    "# Binary Search, Decorators, Dynamic Programming & Memoization"
   ]
  },
  {
   "cell_type": "markdown",
   "metadata": {},
   "source": [
    "## Tasks Today:\n",
    "\n",
    "1) <b>Binary Search</b> <br>\n",
    " &nbsp;&nbsp;&nbsp;&nbsp; a) How it Works <br>\n",
    " &nbsp;&nbsp;&nbsp;&nbsp; b) In-Class Exercise #1 <br>\n",
    "2) <b>Decorators</b> <br>\n",
    " &nbsp;&nbsp;&nbsp;&nbsp; a) Creating a Wrapper <br>\n",
    " &nbsp;&nbsp;&nbsp;&nbsp; b) The @ Symbol <br>\n",
    " &nbsp;&nbsp;&nbsp;&nbsp; c) Multiple Decorators <br>\n",
    " &nbsp;&nbsp;&nbsp;&nbsp; e) Saving a Decorator as a Variable <br>\n",
    " &nbsp;&nbsp;&nbsp;&nbsp; d) In-Class Exercise #2 <br>\n",
    "3) <b>Memoization</b> <br>\n",
    " &nbsp;&nbsp;&nbsp;&nbsp; a) Explicit Implementation <br>\n",
    " &nbsp;&nbsp;&nbsp;&nbsp; b) LRU_Cache <br>\n",
    " &nbsp;&nbsp;&nbsp;&nbsp; c) In-Class Exercise #3 <br>"
   ]
  },
  {
   "cell_type": "markdown",
   "metadata": {},
   "source": [
    "## Binary Search <br>\n",
    "<p>Standard way of searching lists</p>"
   ]
  },
  {
   "cell_type": "markdown",
   "metadata": {},
   "source": [
    "#### How it Works <br>\n",
    "<p>The Binary Search works by cutting a <b>SORTED</b> list in half and checking to see if it belongs in the first half or second half of the list, or if it is equal to the current middle index. If it is the current index it returns, but if it isn't, it then figures out if it belongs to the first half or second half of the list, then cuts that list in half, and repeats the process until it is either found or the list is 0</p>"
   ]
  },
  {
   "cell_type": "markdown",
   "metadata": {},
   "source": [
    "#### In-Class Exercise #1 <br>\n",
    "<p>Write a binary search algorithm</p>"
   ]
  },
  {
   "cell_type": "code",
   "execution_count": null,
   "metadata": {
    "collapsed": true
   },
   "outputs": [],
   "source": []
  },
  {
   "cell_type": "markdown",
   "metadata": {},
   "source": [
    "## Decorators <br>\n",
    "<p>They are useful for wrapping functions, or adding more functionality to an already create function.</p>"
   ]
  },
  {
   "cell_type": "markdown",
   "metadata": {},
   "source": [
    "#### Creating a Wrapper"
   ]
  },
  {
   "cell_type": "code",
   "execution_count": 48,
   "metadata": {},
   "outputs": [],
   "source": [
    "# decorator must return a function\n",
    "\n",
    "def wrap(func):\n",
    "    def decor():\n",
    "        print('===============')\n",
    "        func()\n",
    "        print('===============')\n",
    "    return decor\n",
    "\n",
    "def decor(func):\n",
    "    def my_dec():\n",
    "        print('this is a decorator')\n",
    "        func()\n",
    "    return my_dec"
   ]
  },
  {
   "cell_type": "markdown",
   "metadata": {},
   "source": [
    "#### The @ Symbol"
   ]
  },
  {
   "cell_type": "code",
   "execution_count": 44,
   "metadata": {},
   "outputs": [
    {
     "name": "stdout",
     "output_type": "stream",
     "text": [
      "===============\n",
      "Hello\n",
      "===============\n"
     ]
    }
   ],
   "source": [
    "@wrap\n",
    "def printHello():\n",
    "    print('Hello')\n",
    "    \n",
    "printHello()"
   ]
  },
  {
   "cell_type": "markdown",
   "metadata": {},
   "source": [
    "#### Multiple Decorators"
   ]
  },
  {
   "cell_type": "code",
   "execution_count": 54,
   "metadata": {},
   "outputs": [
    {
     "name": "stdout",
     "output_type": "stream",
     "text": [
      "this is a decorator\n",
      "Hello\n"
     ]
    }
   ],
   "source": [
    "@decor\n",
    "def printHello():\n",
    "    print('Hello')\n",
    "    \n",
    "printHello()"
   ]
  },
  {
   "cell_type": "markdown",
   "metadata": {},
   "source": [
    "#### Saving a Decorator as a Variable"
   ]
  },
  {
   "cell_type": "code",
   "execution_count": 55,
   "metadata": {},
   "outputs": [
    {
     "name": "stdout",
     "output_type": "stream",
     "text": [
      "===============\n",
      "this is a decorator\n",
      "Hello\n",
      "===============\n"
     ]
    }
   ],
   "source": [
    "# my_text = wrap(print_text())\n",
    "\n",
    "my_text = wrap(printHello)\n",
    "\n",
    "my_text()"
   ]
  },
  {
   "cell_type": "markdown",
   "metadata": {},
   "source": [
    "#### In-Class Exercise #2 <br>\n",
    "<p>Create a decorator that will put a border around all four sides of a function, which returns '2 + 2 = 4'</p>"
   ]
  },
  {
   "cell_type": "code",
   "execution_count": 77,
   "metadata": {},
   "outputs": [
    {
     "name": "stdout",
     "output_type": "stream",
     "text": [
      "==============\n",
      "= 2 + 2 is 4 =\n",
      "==============\n"
     ]
    }
   ],
   "source": [
    "def wrap(func):\n",
    "    def decor():\n",
    "        print('==============')\n",
    "        print('= ', end='')\n",
    "        func()\n",
    "        print(' =')\n",
    "        print('==============')\n",
    "    return decor\n",
    "\n",
    "@wrap\n",
    "def add():\n",
    "    print('2 + 2 is 4', end='')\n",
    "\n",
    "add()"
   ]
  },
  {
   "cell_type": "markdown",
   "metadata": {},
   "source": [
    "## Memoization <br>\n",
    "<p>Store values for recent function calls so that we can speed up the process</p>"
   ]
  },
  {
   "cell_type": "markdown",
   "metadata": {},
   "source": [
    "#### Explicit Implementation <br>\n",
    "<p>Creating our own memoization technique</p>"
   ]
  },
  {
   "cell_type": "code",
   "execution_count": 31,
   "metadata": {},
   "outputs": [],
   "source": [
    "# caching values\n",
    "# fibs_cache = {}\n",
    "\n"
   ]
  },
  {
   "cell_type": "markdown",
   "metadata": {},
   "source": [
    "#### LRU_Cache <br>\n",
    "<p>Stands for least recently used cache</p>"
   ]
  },
  {
   "cell_type": "code",
   "execution_count": 37,
   "metadata": {},
   "outputs": [],
   "source": [
    "# from functools import lru_cache\n",
    "# @lru_cache(maxsize = x)\n"
   ]
  },
  {
   "cell_type": "markdown",
   "metadata": {},
   "source": [
    "#### In-Class Exercise #3 <br>\n",
    "<p>Create a recursive function that returns the multiplication of n and n - 1 using lru_cache.</p>"
   ]
  },
  {
   "cell_type": "code",
   "execution_count": null,
   "metadata": {},
   "outputs": [],
   "source": []
  }
 ],
 "metadata": {
  "kernelspec": {
   "display_name": "Python 3",
   "language": "python",
   "name": "python3"
  },
  "language_info": {
   "codemirror_mode": {
    "name": "ipython",
    "version": 3
   },
   "file_extension": ".py",
   "mimetype": "text/x-python",
   "name": "python",
   "nbconvert_exporter": "python",
   "pygments_lexer": "ipython3",
   "version": "3.6.5"
  }
 },
 "nbformat": 4,
 "nbformat_minor": 2
}
