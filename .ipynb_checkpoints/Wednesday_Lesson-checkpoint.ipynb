{
 "cells": [
  {
   "cell_type": "markdown",
   "metadata": {},
   "source": [
    "# Merge Sort, In-Place Algorithm & Two-Pointers + Regular Expressions"
   ]
  },
  {
   "cell_type": "markdown",
   "metadata": {},
   "source": [
    "## Tasks Today:\n",
    "\n",
    "1) <b>Regular Expressions - <i>Covered by Jordan</i></b> <br>\n",
    "2) <b>In-Place Algorithms</b> <br>\n",
    " &nbsp;&nbsp;&nbsp;&nbsp; a) Syntax <br>\n",
    " &nbsp;&nbsp;&nbsp;&nbsp; a) Out of Place Algorithm <br>\n",
    " &nbsp;&nbsp;&nbsp;&nbsp; b) In-Class Exercise #1 <br>\n",
    "3) <b>Two Pointers</b> <br>\n",
    "4) <b>Merge Sort</b> <br>\n",
    " &nbsp;&nbsp;&nbsp;&nbsp; a) Video on Algorithms <br>\n",
    " &nbsp;&nbsp;&nbsp;&nbsp; b) How it Works <br>\n",
    "5) <b>Exercises</b> <br>\n",
    " &nbsp;&nbsp;&nbsp;&nbsp; a) Exercise #1 - Write Insertion Sort <br>\n",
    " &nbsp;&nbsp;&nbsp;&nbsp; b) Exercise #2 - Reverse a List in Place Using an In-Place Algorithm <br>\n",
    " &nbsp;&nbsp;&nbsp;&nbsp; c) Exercise #3 - Find Distinct Words <br>\n",
    " &nbsp;&nbsp;&nbsp;&nbsp; d) Exercise #4 - Write Merge Sort (EXTRA) <br>"
   ]
  },
  {
   "cell_type": "markdown",
   "metadata": {},
   "source": [
    "## In-Place Algorithms"
   ]
  },
  {
   "cell_type": "markdown",
   "metadata": {},
   "source": [
    "#### Syntax"
   ]
  },
  {
   "cell_type": "code",
   "execution_count": 30,
   "metadata": {
    "collapsed": true
   },
   "outputs": [],
   "source": [
    "# var[i], var[i + 1] = var[i + 1], var[i]\n",
    "# sometimes called a swap\n",
    "def swap(alist, x, y):\n",
    "    return alist[x], alist[y] = \n",
    "    "
   ]
  },
  {
   "cell_type": "markdown",
   "metadata": {},
   "source": [
    "#### Out of Place Algorithm"
   ]
  },
  {
   "cell_type": "code",
   "execution_count": 31,
   "metadata": {
    "collapsed": true
   },
   "outputs": [],
   "source": [
    "# not swapping, but rather reversing completely\n"
   ]
  },
  {
   "cell_type": "markdown",
   "metadata": {},
   "source": [
    "#### In-Class Exercise #1 <br>\n",
    "<p>Write a function that takes in three arguments (list, index1, index2), and swaps those two positions in the list passed in.</p>"
   ]
  },
  {
   "cell_type": "code",
   "execution_count": 24,
   "metadata": {
    "collapsed": true
   },
   "outputs": [],
   "source": [
    "my_list = [4, 8, 'e', 'word', True]\n"
   ]
  },
  {
   "cell_type": "markdown",
   "metadata": {},
   "source": [
    "## Two Pointers"
   ]
  },
  {
   "cell_type": "markdown",
   "metadata": {},
   "source": [
    "#### Syntax"
   ]
  },
  {
   "cell_type": "code",
   "execution_count": null,
   "metadata": {
    "collapsed": true
   },
   "outputs": [],
   "source": [
    "# alist[left], alist[right] = alist[right], alist[left]\n",
    "# use two pointers to swap, uses while loop\n"
   ]
  },
  {
   "cell_type": "markdown",
   "metadata": {},
   "source": [
    "## Merge Sort"
   ]
  },
  {
   "cell_type": "markdown",
   "metadata": {},
   "source": [
    "#### Video of Algorithms <br>\n",
    "<p>Watch the video about algorithms.</p>\n",
    "\n",
    "https://www.youtube.com/watch?v=Q9HjeFD62Uk\n",
    "\n",
    "https://www.youtube.com/watch?v=kPRA0W1kECg\n",
    "\n",
    "https://www.youtube.com/watch?v=ZZuD6iUe3Pc"
   ]
  },
  {
   "cell_type": "markdown",
   "metadata": {},
   "source": [
    "#### How it Works"
   ]
  },
  {
   "cell_type": "code",
   "execution_count": 25,
   "metadata": {
    "collapsed": true
   },
   "outputs": [],
   "source": [
    "# Step 1: Split everything into it's own group\n",
    "# Step 2: From left to right merge two groups together\n",
    "# Step 3: While merging, place each item in the correct position within the merged group\n",
    "# Step 4: Continue steps 3-4 until one group is left"
   ]
  },
  {
   "cell_type": "markdown",
   "metadata": {},
   "source": [
    "# Exercises"
   ]
  },
  {
   "cell_type": "markdown",
   "metadata": {},
   "source": [
    "### Exercise #1 <br>\n",
    "<p>Write a function that performs insertion sort on the list below.</p>"
   ]
  },
  {
   "cell_type": "code",
   "execution_count": 32,
   "metadata": {},
   "outputs": [],
   "source": [
    "from random import randint\n",
    "# used to generate a random list of 10 numbers from 0 to 100\n",
    "nums = [randint(0, 100) for i in range(10)]\n",
    "# write insertion sort\n"
   ]
  },
  {
   "cell_type": "markdown",
   "metadata": {},
   "source": [
    "### Exercise #2 <br>\n",
    "<p>Reverse the list below in-place using an in-place algorithm.<br>For extra credit: Reverse the strings at the same time.</p>"
   ]
  },
  {
   "cell_type": "code",
   "execution_count": 22,
   "metadata": {
    "collapsed": true
   },
   "outputs": [],
   "source": [
    "words = ['this' , 'is', 'a', 'sentence', '.']\n"
   ]
  },
  {
   "cell_type": "markdown",
   "metadata": {},
   "source": [
    "### Exercise #3 <br>\n",
    "<p>Create a function that counts how many distinct words are in the string below, then outputs a dictionary with the words as the key and the value as the amount of times that word appears in the string.<br>Should output:<br>{'a': 5,<br>\n",
    " 'abstract': 1,<br>\n",
    " 'an': 3,<br>\n",
    " 'array': 2, ... etc...</p>"
   ]
  },
  {
   "cell_type": "code",
   "execution_count": 2,
   "metadata": {
    "collapsed": true
   },
   "outputs": [],
   "source": [
    "a_text = 'In computing, a hash table hash map is a data structure which implements an associative array abstract data type, a structure that can map keys to values. A hash table uses a hash function to compute an index into an array of buckets or slots from which the desired value can be found'\n",
    "\n"
   ]
  },
  {
   "cell_type": "markdown",
   "metadata": {},
   "source": [
    "### Exercise #4 <br>\n",
    "<p><b>EXTRA: Create a merge sort algorithm</b><br><b>Hint: Create a function that performs the merge, and a function that performs the mergeSort.</b></p></p>"
   ]
  },
  {
   "cell_type": "code",
   "execution_count": 23,
   "metadata": {
    "collapsed": true
   },
   "outputs": [],
   "source": [
    "from random import randint\n",
    "# used to generate a random list of 10 numbers from 0 to 100\n",
    "nums = [randint(0, 100) for i in range(10)]\n",
    "# write merge sort\n",
    "\n"
   ]
  }
 ],
 "metadata": {
  "kernelspec": {
   "display_name": "Python 3",
   "language": "python",
   "name": "python3"
  },
  "language_info": {
   "codemirror_mode": {
    "name": "ipython",
    "version": 3
   },
   "file_extension": ".py",
   "mimetype": "text/x-python",
   "name": "python",
   "nbconvert_exporter": "python",
   "pygments_lexer": "ipython3",
   "version": "3.6.5"
  }
 },
 "nbformat": 4,
 "nbformat_minor": 2
}
