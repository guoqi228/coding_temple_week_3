{
 "cells": [
  {
   "cell_type": "markdown",
   "metadata": {},
   "source": [
    "# Merge Sort, In-Place Algorithm & Two-Pointers + Regular Expressions"
   ]
  },
  {
   "cell_type": "markdown",
   "metadata": {},
   "source": [
    "## Tasks Today:\n",
    "\n",
    "1) <b>Regular Expressions - <i>Covered by Jordan</i></b> <br>\n",
    "2) <b>In-Place Algorithms</b> <br>\n",
    " &nbsp;&nbsp;&nbsp;&nbsp; a) Syntax <br>\n",
    " &nbsp;&nbsp;&nbsp;&nbsp; a) Out of Place Algorithm <br>\n",
    " &nbsp;&nbsp;&nbsp;&nbsp; b) In-Class Exercise #1 <br>\n",
    "3) <b>Two Pointers</b> <br>\n",
    "4) <b>Merge Sort</b> <br>\n",
    " &nbsp;&nbsp;&nbsp;&nbsp; a) Video on Algorithms <br>\n",
    " &nbsp;&nbsp;&nbsp;&nbsp; b) How it Works <br>\n",
    "5) <b>Exercises</b> <br>\n",
    " &nbsp;&nbsp;&nbsp;&nbsp; a) Exercise #1 - Write Insertion Sort <br>\n",
    " &nbsp;&nbsp;&nbsp;&nbsp; b) Exercise #2 - Reverse a List in Place Using an In-Place Algorithm <br>\n",
    " &nbsp;&nbsp;&nbsp;&nbsp; c) Exercise #3 - Find Distinct Words <br>\n",
    " &nbsp;&nbsp;&nbsp;&nbsp; d) Exercise #4 - Write Merge Sort (EXTRA) <br>"
   ]
  },
  {
   "cell_type": "markdown",
   "metadata": {},
   "source": [
    "## In-Place Algorithms"
   ]
  },
  {
   "cell_type": "markdown",
   "metadata": {},
   "source": [
    "#### Syntax"
   ]
  },
  {
   "cell_type": "code",
   "execution_count": 3,
   "metadata": {},
   "outputs": [],
   "source": [
    "# var[i], var[i + 1] = var[i + 1], var[i]\n",
    "# sometimes called a swap\n",
    "def swap_2(alist, x, y):\n",
    "    alist[x], alist[y] = alist[y], alist[x]\n",
    "    return alist    \n",
    "\n",
    "my_list = [1,2,3,4,5]"
   ]
  },
  {
   "cell_type": "markdown",
   "metadata": {},
   "source": [
    "#### Out of Place Algorithm"
   ]
  },
  {
   "cell_type": "code",
   "execution_count": 4,
   "metadata": {},
   "outputs": [
    {
     "data": {
      "text/plain": [
       "[5, 4, 3, 2, 1]"
      ]
     },
     "execution_count": 4,
     "metadata": {},
     "output_type": "execute_result"
    }
   ],
   "source": [
    "# not swapping, but rather reversing completely\n",
    "my_list[::-1]"
   ]
  },
  {
   "cell_type": "code",
   "execution_count": 34,
   "metadata": {},
   "outputs": [
    {
     "name": "stdout",
     "output_type": "stream",
     "text": [
      "[(0, 4), (1, 8), (2, 'e'), (3, 'word'), (4, True)]\n"
     ]
    },
    {
     "data": {
      "text/plain": [
       "(1, 8)"
      ]
     },
     "execution_count": 34,
     "metadata": {},
     "output_type": "execute_result"
    }
   ],
   "source": [
    "my_list = [4, 8, 'e', 'word', True]\n",
    "a = list(zip(range(len(my_list)), my_list))\n",
    "print(a)\n",
    "a[1]"
   ]
  },
  {
   "cell_type": "code",
   "execution_count": 35,
   "metadata": {},
   "outputs": [
    {
     "name": "stdout",
     "output_type": "stream",
     "text": [
      "<enumerate object at 0x0000024891170EE8>\n"
     ]
    },
    {
     "data": {
      "text/plain": [
       "[0, 1, 2, 3, 4]"
      ]
     },
     "execution_count": 35,
     "metadata": {},
     "output_type": "execute_result"
    }
   ],
   "source": [
    "\n",
    "\n",
    "print(enumerate(my_list))\n",
    "\n",
    "list(map(lambda x: x[0], list(zip(range(len(my_list)), my_list))))"
   ]
  },
  {
   "cell_type": "markdown",
   "metadata": {},
   "source": [
    "#### In-Class Exercise #1 <br>\n",
    "<p>Write a function that takes in three arguments (list, index1, index2), and swaps those two positions in the list passed in.</p>"
   ]
  },
  {
   "cell_type": "code",
   "execution_count": 18,
   "metadata": {},
   "outputs": [
    {
     "name": "stdout",
     "output_type": "stream",
     "text": [
      "[4, True, 'word', 'e', 8]\n"
     ]
    },
    {
     "data": {
      "text/plain": [
       "[8, 'e', 'word', True, 4]"
      ]
     },
     "execution_count": 18,
     "metadata": {},
     "output_type": "execute_result"
    }
   ],
   "source": [
    "my_list = [4, 8, 'e', 'word', True]\n",
    "\n",
    "def swap_4(alist, a, b, c, d):\n",
    "    alist[a], alist[b], alist[c], alist[d]= alist[d], alist[c], alist[b], alist[a]\n",
    "    return alist \n",
    "\n",
    "print(swap_4(my_list, 1,2,3,4))\n",
    "\n",
    "def reverse_list_2(alist):\n",
    "    for i in range(len(alist)//2):\n",
    "        alist[i], alist[-i-1] = alist[-i-1], alist[i]\n",
    "    return alist\n",
    "\n",
    "def reverse_list(alist):\n",
    "    \n",
    "    if alist is None or len(alist) <= 1:\n",
    "        return alist\n",
    "    \n",
    "    left = 0\n",
    "    right = len(alist)-1\n",
    "    \n",
    "    while left < right:\n",
    "        alist[left], alist[right] = alist[right], alist[left]\n",
    "        left += 1\n",
    "        right -= 1\n",
    "    return alist\n",
    "\n",
    "reverse_list(my_list)"
   ]
  },
  {
   "cell_type": "code",
   "execution_count": 19,
   "metadata": {},
   "outputs": [],
   "source": [
    "reverse_list(None)"
   ]
  },
  {
   "cell_type": "markdown",
   "metadata": {},
   "source": [
    "## Two Pointers"
   ]
  },
  {
   "cell_type": "markdown",
   "metadata": {},
   "source": [
    "#### Syntax"
   ]
  },
  {
   "cell_type": "code",
   "execution_count": null,
   "metadata": {
    "collapsed": true
   },
   "outputs": [],
   "source": [
    "# alist[left], alist[right] = alist[right], alist[left]\n",
    "# use two pointers to swap, uses while loop\n"
   ]
  },
  {
   "cell_type": "markdown",
   "metadata": {},
   "source": [
    "## Merge Sort"
   ]
  },
  {
   "cell_type": "markdown",
   "metadata": {},
   "source": [
    "#### Video of Algorithms <br>\n",
    "<p>Watch the video about algorithms.</p>\n",
    "\n",
    "https://www.youtube.com/watch?v=Q9HjeFD62Uk\n",
    "\n",
    "https://www.youtube.com/watch?v=kPRA0W1kECg\n",
    "\n",
    "https://www.youtube.com/watch?v=ZZuD6iUe3Pc"
   ]
  },
  {
   "cell_type": "markdown",
   "metadata": {},
   "source": [
    "#### How it Works"
   ]
  },
  {
   "cell_type": "code",
   "execution_count": 25,
   "metadata": {
    "collapsed": true
   },
   "outputs": [],
   "source": [
    "# Step 1: Split everything into it's own group\n",
    "# Step 2: From left to right merge two groups together\n",
    "# Step 3: While merging, place each item in the correct position within the merged group\n",
    "# Step 4: Continue steps 3-4 until one group is left"
   ]
  },
  {
   "cell_type": "markdown",
   "metadata": {},
   "source": [
    "# Exercises"
   ]
  },
  {
   "cell_type": "markdown",
   "metadata": {},
   "source": [
    "### Exercise #1 <br>\n",
    "<p>Write a function that performs insertion sort on the list below.</p>"
   ]
  },
  {
   "cell_type": "code",
   "execution_count": 55,
   "metadata": {},
   "outputs": [
    {
     "data": {
      "text/plain": [
       "[68, 75, 69, 79, 56, 28, 8, 21, 56, 64]"
      ]
     },
     "execution_count": 55,
     "metadata": {},
     "output_type": "execute_result"
    }
   ],
   "source": [
    "from random import randint\n",
    "# used to generate a random list of 10 numbers from 0 to 100\n",
    "nums = [randint(0, 100) for i in range(10)]\n",
    "# write insertion sort\n",
    "nums"
   ]
  },
  {
   "cell_type": "code",
   "execution_count": 69,
   "metadata": {},
   "outputs": [
    {
     "data": {
      "text/plain": [
       "[2, 3, 3, 4, 4, 5, 5, 6, 6, 10]"
      ]
     },
     "execution_count": 69,
     "metadata": {},
     "output_type": "execute_result"
    }
   ],
   "source": [
    "num = [6,5,4,3,2,10,6,5,4,3]\n",
    "\n",
    "def insertion_sort(A):\n",
    "    \n",
    "    if A is None or len(A) <= 1:\n",
    "        return A\n",
    "    \n",
    "    for i in range(len(A)):\n",
    "        j = i\n",
    "        while A[j-1] > A[j] and j > 0:\n",
    "            A[j-1], A[j] = A[j], A[j-1]\n",
    "            j -= 1\n",
    "    return A\n",
    "\n",
    "insertion_sort(num)"
   ]
  },
  {
   "cell_type": "code",
   "execution_count": 70,
   "metadata": {},
   "outputs": [
    {
     "name": "stdout",
     "output_type": "stream",
     "text": [
      "[2, 2, 3, 3, 4, 4, 5, 5, 6, 6, 6, 34, 45, 54, 74, 78]\n"
     ]
    }
   ],
   "source": [
    "def quick_sort(A, start, end):\n",
    "    \n",
    "    if A is None or len(A) <= 1:\n",
    "        return A\n",
    "    \n",
    "    if start > end:\n",
    "        return\n",
    "    \n",
    "    pivot = A[(start + end) // 2]\n",
    "    left = start\n",
    "    right = end\n",
    "    \n",
    "    while left <= right:\n",
    "        while left <= right and A[left] < pivot:\n",
    "            left += 1\n",
    "        while left <= right and A[right] > pivot:\n",
    "            right -= 1\n",
    "        if left <= right:\n",
    "            A[left], A[right] = A[right], A[left]\n",
    "            left += 1\n",
    "            right -= 1\n",
    "        \n",
    "    quick_sort(A, start,right)\n",
    "    quick_sort(A, left, end)\n",
    "    \n",
    "num = [6,5,4,3,2,45,6,74,34,2,3,4,5,6,78,54]\n",
    "\n",
    "quick_sort(num, 0, len(num)-1)\n",
    "\n",
    "print(num)"
   ]
  },
  {
   "cell_type": "code",
   "execution_count": 41,
   "metadata": {},
   "outputs": [],
   "source": [
    "def merge(A, start, mid, end, temp):\n",
    "\n",
    "    left = start\n",
    "    right = mid + 1\n",
    "    \n",
    "    index = start\n",
    "    \n",
    "    while left <= mid and right <= end:\n",
    "        if A[left] < A[right]:\n",
    "            temp[index] = A[left]\n",
    "            left += 1\n",
    "        else:\n",
    "            temp[index] = A[right]\n",
    "            right += 1\n",
    "        index += 1\n",
    "            \n",
    "    while left <= mid:\n",
    "        temp[index] = A[left]\n",
    "        left += 1\n",
    "        index += 1\n",
    "    \n",
    "    while right <= end:\n",
    "        temp[index] = A[right]\n",
    "        right += 1\n",
    "        index += 1\n",
    "        \n",
    "    for index in range(start, end + 1):\n",
    "        A[index] = temp[index]\n",
    "    \n",
    "    \n",
    "def merge_sort(A, start, end, temp):\n",
    "\n",
    "    if start >= end:\n",
    "        return\n",
    "    \n",
    "    mid = (start + end) // 2 \n",
    "    \n",
    "    merge_sort(A, start, mid, temp)\n",
    "    merge_sort(A, mid + 1, end, temp)\n",
    "    merge(A, start, mid, end, temp)        \n",
    "    "
   ]
  },
  {
   "cell_type": "code",
   "execution_count": 42,
   "metadata": {},
   "outputs": [
    {
     "data": {
      "text/plain": [
       "[2, 3, 4, 5, 6]"
      ]
     },
     "execution_count": 42,
     "metadata": {},
     "output_type": "execute_result"
    }
   ],
   "source": [
    "num = [6,5,4,3,2]\n",
    "temp = [0 for _ in range(len(num))]\n",
    "merge_sort(num, 0 , len(num) - 1, temp)\n",
    "num "
   ]
  },
  {
   "cell_type": "code",
   "execution_count": 82,
   "metadata": {},
   "outputs": [
    {
     "name": "stdout",
     "output_type": "stream",
     "text": [
      "None\n",
      "[None, 5, None, None, None, None, None, None, None, None, None, None, None, None, None, None]\n"
     ]
    }
   ],
   "source": [
    "temp = [None] * len(num)\n",
    "len(temp)\n",
    "print(temp[1])\n",
    "temp[1] = 5\n",
    "print(temp)"
   ]
  },
  {
   "cell_type": "markdown",
   "metadata": {},
   "source": [
    "### Exercise #2 <br>\n",
    "<p>Reverse the list below in-place using an in-place algorithm.<br>For extra credit: Reverse the strings at the same time.</p>"
   ]
  },
  {
   "cell_type": "code",
   "execution_count": 5,
   "metadata": {},
   "outputs": [
    {
     "name": "stdout",
     "output_type": "stream",
     "text": [
      "['.', 'ecnetnes', 'a', 'si', 'siht']\n"
     ]
    }
   ],
   "source": [
    "words = ['this' , 'is', 'a', 'sentence', '.']\n",
    "\n",
    "def reverse(A):\n",
    "    if A is None or len(A) <= 1:\n",
    "        return A\n",
    "    \n",
    "    left = 0\n",
    "    right = len(A) - 1\n",
    "    \n",
    "    while left < right:\n",
    "        \n",
    "        A[left], A[right] = A[right], A[left]\n",
    "        left += 1\n",
    "        right -= 1\n",
    "        \n",
    "    return A\n",
    "\n",
    "reverse(words)\n",
    "\n",
    "A = []\n",
    "for word in words:\n",
    "    A.append(word[::-1])\n",
    "    \n",
    "print(A)"
   ]
  },
  {
   "cell_type": "markdown",
   "metadata": {},
   "source": [
    "### Exercise #3 <br>\n",
    "<p>Create a function that counts how many distinct words are in the string below, then outputs a dictionary with the words as the key and the value as the amount of times that word appears in the string.<br>Should output:<br>{'a': 5,<br>\n",
    " 'abstract': 1,<br>\n",
    " 'an': 3,<br>\n",
    " 'array': 2, ... etc...</p>"
   ]
  },
  {
   "cell_type": "code",
   "execution_count": 44,
   "metadata": {},
   "outputs": [
    {
     "name": "stdout",
     "output_type": "stream",
     "text": [
      "{'In': 1, 'computing,': 1, 'a': 4, 'hash': 4, 'table': 2, 'map': 2, 'is': 1, 'data': 2, 'structure': 2, 'which': 2, 'implements': 1, 'an': 3, 'associative': 1, 'array': 2, 'abstract': 1, 'type,': 1, 'that': 1, 'can': 2, 'keys': 1, 'to': 2, 'values.': 1, 'A': 1, 'uses': 1, 'function': 1, 'compute': 1, 'index': 1, 'into': 1, 'of': 1, 'buckets': 1, 'or': 1, 'slots': 1, 'from': 1, 'the': 1, 'desired': 1, 'value': 1, 'be': 1, 'found': 1}\n"
     ]
    }
   ],
   "source": [
    "a_text = 'In computing, a hash table hash map is a data structure which implements an associative array abstract data type, a structure that can map keys to values. A hash table uses a hash function to compute an index into an array of buckets or slots from which the desired value can be found'\n",
    "\n",
    "keys = a_text.split()\n",
    "\n",
    "hash_text = dict()\n",
    "\n",
    "for key in keys:\n",
    "    if key in hash_text:\n",
    "        hash_text[key] += 1\n",
    "    else:\n",
    "        hash_text[key] = 1\n",
    "\n",
    "print(hash_text)"
   ]
  },
  {
   "cell_type": "code",
   "execution_count": 11,
   "metadata": {},
   "outputs": [
    {
     "name": "stdout",
     "output_type": "stream",
     "text": [
      "{'a': 14, 'In': 3, 'computing,': 3, 'hash': 12, 'table': 6, 'map': 6, 'is': 3, 'data': 6, 'structure': 6, 'which': 6, 'implements': 3, 'an': 9, 'associative': 3, 'array': 6, 'abstract': 3, 'type,': 3, 'that': 3, 'can': 6, 'keys': 3, 'to': 6, 'values.': 3, 'A': 3, 'uses': 3, 'function': 3, 'compute': 3, 'index': 3, 'into': 3, 'of': 3, 'buckets': 3, 'or': 3, 'slots': 3, 'from': 3, 'the': 3, 'desired': 3, 'value': 3, 'be': 3, 'found': 3}\n"
     ]
    }
   ],
   "source": []
  },
  {
   "cell_type": "markdown",
   "metadata": {},
   "source": [
    "### Exercise #4 <br>\n",
    "<p><b>EXTRA: Create a merge sort algorithm</b><br><b>Hint: Create a function that performs the merge, and a function that performs the mergeSort.</b></p></p>"
   ]
  },
  {
   "cell_type": "code",
   "execution_count": 23,
   "metadata": {
    "collapsed": true
   },
   "outputs": [],
   "source": [
    "from random import randint\n",
    "# used to generate a random list of 10 numbers from 0 to 100\n",
    "nums = [randint(0, 100) for i in range(10)]\n",
    "# write merge sort\n",
    "\n"
   ]
  },
  {
   "cell_type": "code",
   "execution_count": 29,
   "metadata": {},
   "outputs": [],
   "source": [
    "def merge_sort(start, end, A, temp):\n",
    "    if start >= end:\n",
    "        return\n",
    "\n",
    "    mid = (start + end) // 2\n",
    "    merge_sort(start, mid , A, temp)\n",
    "    merge_sort(mid + 1, end, A, temp)\n",
    "    merge(start, mid, end, A, temp)\n",
    "\n",
    "def merge(start, mid, end, A, temp):\n",
    "    left, right = start, mid + 1\n",
    "    index = start\n",
    "    while left <= mid and right <= end:\n",
    "        if A[left] < A[right]:\n",
    "            temp[index] = A[left]\n",
    "            left += 1\n",
    "        else:\n",
    "            temp[index] = A[right];\n",
    "            right += 1\n",
    "\n",
    "        index += 1\n",
    "\n",
    "    while left <= mid:\n",
    "        temp[index] = A[left]\n",
    "        left += 1\n",
    "        index += 1\n",
    "\n",
    "    while right <= end:\n",
    "        temp[index] = A[right]\n",
    "        right += 1\n",
    "        index += 1\n",
    "\n",
    "    for index in range(start, end + 1):\n",
    "        A[index] = temp[index]"
   ]
  },
  {
   "cell_type": "code",
   "execution_count": 31,
   "metadata": {},
   "outputs": [
    {
     "data": {
      "text/plain": [
       "[1, 2, 3, 4, 5, 6, 7]"
      ]
     },
     "execution_count": 31,
     "metadata": {},
     "output_type": "execute_result"
    }
   ],
   "source": [
    "A = [5,6,7,4,3,2,1]\n",
    "temp = [0 for _ in range(len(A))]\n",
    "merge_sort(0, len(A) - 1, A, temp)\n",
    "A"
   ]
  },
  {
   "cell_type": "code",
   "execution_count": null,
   "metadata": {},
   "outputs": [],
   "source": []
  }
 ],
 "metadata": {
  "kernelspec": {
   "display_name": "Python 3",
   "language": "python",
   "name": "python3"
  },
  "language_info": {
   "codemirror_mode": {
    "name": "ipython",
    "version": 3
   },
   "file_extension": ".py",
   "mimetype": "text/x-python",
   "name": "python",
   "nbconvert_exporter": "python",
   "pygments_lexer": "ipython3",
   "version": "3.6.5"
  }
 },
 "nbformat": 4,
 "nbformat_minor": 2
}
