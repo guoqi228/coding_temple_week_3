{
 "cells": [
  {
   "cell_type": "markdown",
   "metadata": {},
   "source": [
    "# Thursday Exercises"
   ]
  },
  {
   "cell_type": "markdown",
   "metadata": {},
   "source": [
    "# Exercise 1 <br>\n",
    "<p>Return sum of all individual numbers passed in...</p>"
   ]
  },
  {
   "cell_type": "code",
   "execution_count": 4,
   "metadata": {},
   "outputs": [
    {
     "data": {
      "text/plain": [
       "3"
      ]
     },
     "execution_count": 4,
     "metadata": {},
     "output_type": "execute_result"
    }
   ],
   "source": [
    "# func(26319) ---> return 2+6+3+1+9=21 (for recursive use modulo)\n",
    "\n",
    "def func(num):\n",
    "    ans = 0\n",
    "    i = 1\n",
    "    while num // i >= 10:\n",
    "        i = i * 10\n",
    "        \n",
    "    while num >= 1:\n",
    "        ans += num // i % 10\n",
    "        num = num % i\n",
    "        i = i // 10\n",
    "        \n",
    "    return ans\n",
    "\n",
    "func(100002)     "
   ]
  },
  {
   "cell_type": "code",
   "execution_count": 12,
   "metadata": {},
   "outputs": [
    {
     "data": {
      "text/plain": [
       "7"
      ]
     },
     "execution_count": 12,
     "metadata": {},
     "output_type": "execute_result"
    }
   ],
   "source": [
    "def func_2(num):\n",
    "    \n",
    "    if num // 10 == 0:\n",
    "        return num\n",
    "     \n",
    "    return func_2(num//10) + num % 10\n",
    "\n",
    "func_2(11000000011111)"
   ]
  },
  {
   "cell_type": "markdown",
   "metadata": {},
   "source": [
    "# Exercise 2 <br>\n",
    "<p>Recursively reverse a string</p>"
   ]
  },
  {
   "cell_type": "code",
   "execution_count": 25,
   "metadata": {},
   "outputs": [
    {
     "data": {
      "text/plain": [
       "'  d.amdsa olleh asdsa   '"
      ]
     },
     "execution_count": 25,
     "metadata": {},
     "output_type": "execute_result"
    }
   ],
   "source": [
    "# write a function that reverses a string by using recursion\n",
    "def recerse_string(A):\n",
    "    \n",
    "    if A == '':\n",
    "        return A\n",
    "    else:\n",
    "        return A[-1] + recerse_string(A[:-1]) \n",
    "    \n",
    "recerse_string('   asdsa hello asdma.d  ')\n",
    "    "
   ]
  },
  {
   "cell_type": "markdown",
   "metadata": {},
   "source": [
    "# Exercise 3 <br>\n",
    "<p>Write a function that finds the mode of a given list</p>"
   ]
  },
  {
   "cell_type": "code",
   "execution_count": 31,
   "metadata": {},
   "outputs": [
    {
     "data": {
      "text/plain": [
       "21"
      ]
     },
     "execution_count": 31,
     "metadata": {},
     "output_type": "execute_result"
    }
   ],
   "source": [
    "# Given a list, write a function that finds the mode (most common integer) of the list.\n",
    "# To ensure your chances of having duplicate number, create a list of 100 numbers that generates a range of number from 0-25\n",
    "import random\n",
    "\n",
    "\n",
    "def int_mode(A):\n",
    "    \n",
    "    int_hash = dict()\n",
    "    \n",
    "    for num in A:\n",
    "        if num in int_hash:\n",
    "            int_hash[num] += 1\n",
    "        else:\n",
    "            int_hash[num] = 1\n",
    "            \n",
    "    maxValKey = max(int_hash, key = int_hash.get)\n",
    "    return maxValKey\n",
    "\n",
    "A = [random.randint(0, 25) for i in range(100)] \n",
    "int_mode(A)"
   ]
  },
  {
   "cell_type": "markdown",
   "metadata": {},
   "source": [
    "# Exercise 4 <br>\n",
    "<p>Using classes, build a calculator<br><b>For a bigger challenge use regex to parse a string to perform mathematical operations.</b></p>"
   ]
  },
  {
   "cell_type": "code",
   "execution_count": null,
   "metadata": {
    "collapsed": true
   },
   "outputs": [],
   "source": []
  }
 ],
 "metadata": {
  "kernelspec": {
   "display_name": "Python 3",
   "language": "python",
   "name": "python3"
  },
  "language_info": {
   "codemirror_mode": {
    "name": "ipython",
    "version": 3
   },
   "file_extension": ".py",
   "mimetype": "text/x-python",
   "name": "python",
   "nbconvert_exporter": "python",
   "pygments_lexer": "ipython3",
   "version": "3.6.5"
  }
 },
 "nbformat": 4,
 "nbformat_minor": 2
}
